{
    "cells": [
        {
            "cell_type": "markdown",
            "metadata": {},
            "source": [
                "# Basic Vega Visualization"
            ]
        },
        {
            "cell_type": "code",
            "execution_count": 2,
            "metadata": {},
            "outputs": [],
            "source": [
                "from vega import Vega"
            ]
        },
        {
            "cell_type": "code",
            "source": [
                "from IPython.core.display import display, HTML\n",
                "display(HTML('<h1>Hello, world!</h1>'))\n"
            ],
            "outputs": [
                {
                    "output_type": "display_data",
                    "data": {
                        "text/html": [
                            "<h1>Hello, world!</h1>"
                        ],
                        "text/plain": [
                            "<IPython.core.display.HTML object>"
                        ]
                    },
                    "metadata": {}
                }
            ],
            "execution_count": 1,
            "metadata": {}
        },
        {
            "cell_type": "code",
            "execution_count": 3,
            "metadata": {},
            "outputs": [
                {
                    "data": {
                        "text/html": [
                            "<div id=\"vegatest\"></div>",
                            "<script>\n",
                            "fetch(\"vscode-resource://file///Users/penlv/code/vscode/extensions/notebook-test/dist/jupyter-vega/index.js\").then(response => {\n",
                            "    return response.text();\n",
                            "}).then(text => {\n",
                            "    let scriptTag = document.createElement(\"script\");\n",
                            "    scriptTag.text = text;\n",
                            "    document.body.appendChild(scriptTag);\n",
                            "    const element = document.getElementById(\"vegatest\");\n",
                            "    const spec = {\"$schema\": \"https://vega.github.io/schema/vega/v5.json\", \"width\": 400, \"height\": 200, \"padding\": 5, \"data\": [{\"name\": \"table\", \"values\": [{\"category\": \"A\", \"amount\": 28}, {\"category\": \"B\", \"amount\": 55}, {\"category\": \"C\", \"amount\": 43}, {\"category\": \"D\", \"amount\": 91}, {\"category\": \"E\", \"amount\": 81}, {\"category\": \"F\", \"amount\": 53}, {\"category\": \"G\", \"amount\": 19}, {\"category\": \"H\", \"amount\": 87}]}], \"signals\": [{\"name\": \"tooltip\", \"value\": {}, \"on\": [{\"events\": \"rect:mouseover\", \"update\": \"datum\"}, {\"events\": \"rect:mouseout\", \"update\": \"{}\"}]}], \"scales\": [{\"name\": \"xscale\", \"type\": \"band\", \"domain\": {\"data\": \"table\", \"field\": \"category\"}, \"range\": \"width\", \"padding\": 0.05, \"round\": true}, {\"name\": \"yscale\", \"domain\": {\"data\": \"table\", \"field\": \"amount\"}, \"nice\": true, \"range\": \"height\"}], \"axes\": [{\"orient\": \"bottom\", \"scale\": \"xscale\"}, {\"orient\": \"left\", \"scale\": \"yscale\"}], \"marks\": [{\"type\": \"rect\", \"from\": {\"data\": \"table\"}, \"encode\": {\"enter\": {\"x\": {\"scale\": \"xscale\", \"field\": \"category\"}, \"width\": {\"scale\": \"xscale\", \"band\": 1}, \"y\": {\"scale\": \"yscale\", \"field\": \"amount\"}, \"y2\": {\"scale\": \"yscale\", \"value\": 0}}, \"update\": {\"fill\": {\"value\": \"steelblue\"}}, \"hover\": {\"fill\": {\"value\": \"red\"}}}}, {\"type\": \"text\", \"encode\": {\"enter\": {\"align\": {\"value\": \"center\"}, \"baseline\": {\"value\": \"bottom\"}, \"fill\": {\"value\": \"#333\"}}, \"update\": {\"x\": {\"scale\": \"xscale\", \"signal\": \"tooltip.category\", \"band\": 0.5}, \"y\": {\"scale\": \"yscale\", \"signal\": \"tooltip.amount\", \"offset\": -2}, \"text\": {\"signal\": \"tooltip.amount\"}, \"fillOpacity\": [{\"test\": \"datum === tooltip\", \"value\": 0}, {\"value\": 1}]}}}]};\n",
                            "    const opt = {};\n",
                            "    const type = \"vega\";\n",
                            "    const id = \"2a522180-bd9f-476c-b4f0-5e6311bccbc3\";\n",
                            "    \n",
                            "    const output_area = { outputs: [\"#vegatest\"] };\n",
                            "    \n",
                            "    require([\"nbextensions/jupyter-vega/index\"], function(vega) {\n",
                            "       const target = document.createElement(\"div\");\n",
                            "       target.id = id;\n",
                            "       target.className = \"vega-embed\";\n",
                            "\n",
                            "  const style = document.createElement(\"style\");\n",
                            "  style.textContent = [\n",
                            "    \".vega-embed .error p {\",\n",
                            "    \"  color: firebrick;\",\n",
                            "    \"  font-size: 14px;\",\n",
                            "    \"}\",\n",
                            "  ].join(\"\\\\n\");\n",
                            "\n",
                            "  // element is a jQuery wrapped DOM element inside the output area\n",
                            "  // see http://ipython.readthedocs.io/en/stable/api/generated/\\\n",
                            "  // IPython.display.html#IPython.display.Javascript.__init__\n",
                            "  element.appendChild(target);\n",
                            "  element.appendChild(style);\n",
                            "\n",
                            "  vega.render(\"#\" + id, spec, type, opt, output_area);\n",
                            "}, function (err) {\n",
                            "  if (err.requireType !== \"scripterror\") {\n",
                            "    throw(JSON.stringify(err));\n",
                            "  }\n",
                            "});\n",
                            "});\n",
                            "</script>\n"
                        ]
                    },
                    "execution_count": 3,
                    "metadata": {
                        "jupyter-vega": "#2a522180-bd9f-476c-b4f0-5e6311bccbc3"
                    },
                    "output_type": "display_data"
                }
            ],
            "source": [
                "Vega({\n",
                "  \"$schema\": \"https://vega.github.io/schema/vega/v5.json\",\n",
                "  \"width\": 400,\n",
                "  \"height\": 200,\n",
                "  \"padding\": 5,\n",
                "\n",
                "  \"data\": [\n",
                "    {\n",
                "      \"name\": \"table\",\n",
                "      \"values\": [\n",
                "        {\"category\": \"A\", \"amount\": 28},\n",
                "        {\"category\": \"B\", \"amount\": 55},\n",
                "        {\"category\": \"C\", \"amount\": 43},\n",
                "        {\"category\": \"D\", \"amount\": 91},\n",
                "        {\"category\": \"E\", \"amount\": 81},\n",
                "        {\"category\": \"F\", \"amount\": 53},\n",
                "        {\"category\": \"G\", \"amount\": 19},\n",
                "        {\"category\": \"H\", \"amount\": 87}\n",
                "      ]\n",
                "    }\n",
                "  ],\n",
                "\n",
                "  \"signals\": [\n",
                "    {\n",
                "      \"name\": \"tooltip\",\n",
                "      \"value\": {},\n",
                "      \"on\": [\n",
                "        {\"events\": \"rect:mouseover\", \"update\": \"datum\"},\n",
                "        {\"events\": \"rect:mouseout\",  \"update\": \"{}\"}\n",
                "      ]\n",
                "    }\n",
                "  ],\n",
                "\n",
                "  \"scales\": [\n",
                "    {\n",
                "      \"name\": \"xscale\",\n",
                "      \"type\": \"band\",\n",
                "      \"domain\": {\"data\": \"table\", \"field\": \"category\"},\n",
                "      \"range\": \"width\",\n",
                "      \"padding\": 0.05,\n",
                "      \"round\": True\n",
                "    },\n",
                "    {\n",
                "      \"name\": \"yscale\",\n",
                "      \"domain\": {\"data\": \"table\", \"field\": \"amount\"},\n",
                "      \"nice\": True,\n",
                "      \"range\": \"height\"\n",
                "    }\n",
                "  ],\n",
                "\n",
                "  \"axes\": [\n",
                "    { \"orient\": \"bottom\", \"scale\": \"xscale\" },\n",
                "    { \"orient\": \"left\", \"scale\": \"yscale\" }\n",
                "  ],\n",
                "\n",
                "  \"marks\": [\n",
                "    {\n",
                "      \"type\": \"rect\",\n",
                "      \"from\": {\"data\":\"table\"},\n",
                "      \"encode\": {\n",
                "        \"enter\": {\n",
                "          \"x\": {\"scale\": \"xscale\", \"field\": \"category\"},\n",
                "          \"width\": {\"scale\": \"xscale\", \"band\": 1},\n",
                "          \"y\": {\"scale\": \"yscale\", \"field\": \"amount\"},\n",
                "          \"y2\": {\"scale\": \"yscale\", \"value\": 0}\n",
                "        },\n",
                "        \"update\": {\n",
                "          \"fill\": {\"value\": \"steelblue\"}\n",
                "        },\n",
                "        \"hover\": {\n",
                "          \"fill\": {\"value\": \"red\"}\n",
                "        }\n",
                "      }\n",
                "    },\n",
                "    {\n",
                "      \"type\": \"text\",\n",
                "      \"encode\": {\n",
                "        \"enter\": {\n",
                "          \"align\": {\"value\": \"center\"},\n",
                "          \"baseline\": {\"value\": \"bottom\"},\n",
                "          \"fill\": {\"value\": \"#333\"}\n",
                "        },\n",
                "        \"update\": {\n",
                "          \"x\": {\"scale\": \"xscale\", \"signal\": \"tooltip.category\", \"band\": 0.5},\n",
                "          \"y\": {\"scale\": \"yscale\", \"signal\": \"tooltip.amount\", \"offset\": -2},\n",
                "          \"text\": {\"signal\": \"tooltip.amount\"},\n",
                "          \"fillOpacity\": [\n",
                "            {\"test\": \"datum === tooltip\", \"value\": 0},\n",
                "            {\"value\": 1}\n",
                "          ]\n",
                "        }\n",
                "      }\n",
                "    }\n",
                "  ]\n",
                "})"
            ]
        },
        {
            "cell_type": "code",
            "execution_count": null,
            "metadata": {},
            "outputs": [],
            "source": []
        }
    ],
    "metadata": {
        "kernelspec": {
            "display_name": "Python 3",
            "language": "python",
            "name": "python3"
        },
        "language_info": {
            "codemirror_mode": {
                "name": "ipython",
                "version": 3
            },
            "file_extension": ".py",
            "mimetype": "text/x-python",
            "name": "python",
            "nbconvert_exporter": "python",
            "pygments_lexer": "ipython3",
            "version": "3.7.3"
        },
        "widgets": {
            "state": {},
            "version": "1.1.0"
        }
    },
    "nbformat": 4,
    "nbformat_minor": 1
}