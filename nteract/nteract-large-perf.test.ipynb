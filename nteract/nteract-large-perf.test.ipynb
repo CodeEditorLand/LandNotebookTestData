{
  "cells": [
    {
			"cell_type": "markdown",
			"metadata": {},
			"source": [
				"# Interactive outputs rendered by nteract"
			]
		},
    {
      "cell_type": "code",
      "execution_count": 1,
      "metadata": {},
      "outputs": [
        {
          "data": {
            "text/markdown": [
                "# Do\nit"
            ]
          },
          "metadata": {},
          "output_type": "display_data"
        }
      ],
      "source": [
        "# render markdown \n"
      ]
    },
    {
      "cell_type": "code",
      "execution_count": 1,
      "metadata": {},
      "outputs": [
        {
          "data": {
            "application/json": {
              "name": "vscode",
              "org": {
                "name": "microsoft"
              }
            },
            "text/plain": [
                "name: vscode"
            ]
          },
          "metadata": {},
          "output_type": "display_data"
        }
      ],
      "source": [
        "# render application/json \n"
      ]
    },
    {
      "cell_type": "code",
      "execution_count": 1,
      "metadata": {},
      "outputs": [
        {
          "data": {
            "application/vnd.plotly.v1+json": {
              "data": [
                  { "x": [1999, 2000, 2001, 2002], "y": [10, 15, 13, 17], "type": "scatter" },
                  { "x": [1999, 2000, 2001, 2002], "y": [16, 5, 11, 9], "type": "scatter" }
              ],
              "layout": {
                  "title": "Super Stuff",
                  "xaxis": { "title": "Year", "showgrid": false, "zeroline": false },
                  "yaxis": { "title": "Percent", "showline": false },
                  "height": "100px"
              }
            }
          },
          "metadata": {},
          "output_type": "display_data"
        }
      ],
      "source": [
        "# render application/vnd.plotly.v1+json \n"
      ]
    },
    {
      "cell_type": "code",
      "execution_count": 1,
      "metadata": {},
      "outputs": [
        {
          "data": {
            "application/vnd.vega.v5+json": {
                "$schema": "https://vega.github.io/schema/vega/v5.json",
                "width": 500,
                "height": 200,
                "padding": 5,
                "signals": [
                    {
                        "name": "interpolate",
                        "value": "linear",
                        "bind": {
                            "input": "select",
                            "options": [
                                "basis",
                                "cardinal",
                                "catmull-rom",
                                "linear",
                                "monotone",
                                "natural",
                                "step",
                                "step-after",
                                "step-before"
                            ]
                        }
                    }
                ],
                "data": [
                    {
                        "name": "table",
                        "values": [
                            {
                                "x": 0,
                                "y": 28,
                                "c": 0
                            },
                            {
                                "x": 0,
                                "y": 20,
                                "c": 1
                            },
                            {
                                "x": 1,
                                "y": 43,
                                "c": 0
                            },
                            {
                                "x": 1,
                                "y": 35,
                                "c": 1
                            },
                            {
                                "x": 2,
                                "y": 81,
                                "c": 0
                            },
                            {
                                "x": 2,
                                "y": 10,
                                "c": 1
                            },
                            {
                                "x": 3,
                                "y": 19,
                                "c": 0
                            },
                            {
                                "x": 3,
                                "y": 15,
                                "c": 1
                            },
                            {
                                "x": 4,
                                "y": 52,
                                "c": 0
                            },
                            {
                                "x": 4,
                                "y": 48,
                                "c": 1
                            },
                            {
                                "x": 5,
                                "y": 24,
                                "c": 0
                            },
                            {
                                "x": 5,
                                "y": 28,
                                "c": 1
                            },
                            {
                                "x": 6,
                                "y": 87,
                                "c": 0
                            },
                            {
                                "x": 6,
                                "y": 66,
                                "c": 1
                            },
                            {
                                "x": 7,
                                "y": 17,
                                "c": 0
                            },
                            {
                                "x": 7,
                                "y": 27,
                                "c": 1
                            },
                            {
                                "x": 8,
                                "y": 68,
                                "c": 0
                            },
                            {
                                "x": 8,
                                "y": 16,
                                "c": 1
                            },
                            {
                                "x": 9,
                                "y": 49,
                                "c": 0
                            },
                            {
                                "x": 9,
                                "y": 25,
                                "c": 1
                            }
                        ]
                    }
                ],
                "scales": [
                    {
                        "name": "x",
                        "type": "point",
                        "range": "width",
                        "domain": {
                            "data": "table",
                            "field": "x"
                        }
                    },
                    {
                        "name": "y",
                        "type": "linear",
                        "range": "height",
                        "nice": true,
                        "zero": true,
                        "domain": {
                            "data": "table",
                            "field": "y"
                        }
                    },
                    {
                        "name": "color",
                        "type": "ordinal",
                        "range": "category",
                        "domain": {
                            "data": "table",
                            "field": "c"
                        }
                    }
                ],
                "axes": [
                    {
                        "orient": "bottom",
                        "scale": "x"
                    },
                    {
                        "orient": "left",
                        "scale": "y"
                    }
                ],
                "marks": [
                    {
                        "type": "group",
                        "from": {
                            "facet": {
                                "name": "series",
                                "data": "table",
                                "groupby": "c"
                            }
                        },
                        "marks": [
                            {
                                "type": "line",
                                "from": {
                                    "data": "series"
                                },
                                "encode": {
                                    "enter": {
                                        "x": {
                                            "scale": "x",
                                            "field": "x"
                                        },
                                        "y": {
                                            "scale": "y",
                                            "field": "y"
                                        },
                                        "stroke": {
                                            "scale": "color",
                                            "field": "c"
                                        },
                                        "strokeWidth": {
                                            "value": 2
                                        }
                                    },
                                    "update": {
                                        "interpolate": {
                                            "signal": "interpolate"
                                        },
                                        "fillOpacity": {
                                            "value": 1
                                        }
                                    },
                                    "hover": {
                                        "fillOpacity": {
                                            "value": 0.5
                                        }
                                    }
                                }
                            }
                        ]
                    }
                ]
            }
          },
          "metadata": {},
          "output_type": "display_data"
        }
      ],
      "source": [
        "# render application/vnd.vega.v5+json \n"
      ]
    },
    {
      "cell_type": "code",
      "execution_count": 1,
      "metadata": {},
      "outputs": [
        {
          "data": {
            "text/latex": [
                "$$a^2 + y = 3$$"
            ]
          },
          "metadata": {},
          "output_type": "display_data"
        }
      ],
      "source": [
        "# render latex \n"
      ]
    },
    {
      "cell_type": "code",
      "execution_count": 1,
      "metadata": {},
      "outputs": [
        {
          "data": {
            "text/markdown": [
                "# Do\nit"
            ]
          },
          "metadata": {},
          "output_type": "display_data"
        }
      ],
      "source": [
        "# render markdown \n"
      ]
    },
    {
      "cell_type": "code",
      "execution_count": 1,
      "metadata": {},
      "outputs": [
        {
          "data": {
            "application/json": {
              "name": "vscode",
              "org": {
                "name": "microsoft"
              }
            }
          },
          "metadata": {},
          "output_type": "display_data"
        }
      ],
      "source": [
        "# render application/json \n"
      ]
    },
    {
      "cell_type": "code",
      "execution_count": 1,
      "metadata": {},
      "outputs": [
        {
          "data": {
            "application/vnd.plotly.v1+json": {
              "data": [
                  { "x": [1999, 2000, 2001, 2002], "y": [10, 15, 13, 17], "type": "scatter" },
                  { "x": [1999, 2000, 2001, 2002], "y": [16, 5, 11, 9], "type": "scatter" }
              ],
              "layout": {
                  "title": "Super Stuff",
                  "xaxis": { "title": "Year", "showgrid": false, "zeroline": false },
                  "yaxis": { "title": "Percent", "showline": false },
                  "height": "100px"
              }
            }
          },
          "metadata": {},
          "output_type": "display_data"
        }
      ],
      "source": [
        "# render application/vnd.plotly.v1+json \n"
      ]
    },
    {
      "cell_type": "code",
      "execution_count": 1,
      "metadata": {},
      "outputs": [
        {
          "data": {
            "application/vnd.vega.v5+json": {
                "$schema": "https://vega.github.io/schema/vega/v5.json",
                "width": 500,
                "height": 200,
                "padding": 5,
                "signals": [
                    {
                        "name": "interpolate",
                        "value": "linear",
                        "bind": {
                            "input": "select",
                            "options": [
                                "basis",
                                "cardinal",
                                "catmull-rom",
                                "linear",
                                "monotone",
                                "natural",
                                "step",
                                "step-after",
                                "step-before"
                            ]
                        }
                    }
                ],
                "data": [
                    {
                        "name": "table",
                        "values": [
                            {
                                "x": 0,
                                "y": 28,
                                "c": 0
                            },
                            {
                                "x": 0,
                                "y": 20,
                                "c": 1
                            },
                            {
                                "x": 1,
                                "y": 43,
                                "c": 0
                            },
                            {
                                "x": 1,
                                "y": 35,
                                "c": 1
                            },
                            {
                                "x": 2,
                                "y": 81,
                                "c": 0
                            },
                            {
                                "x": 2,
                                "y": 10,
                                "c": 1
                            },
                            {
                                "x": 3,
                                "y": 19,
                                "c": 0
                            },
                            {
                                "x": 3,
                                "y": 15,
                                "c": 1
                            },
                            {
                                "x": 4,
                                "y": 52,
                                "c": 0
                            },
                            {
                                "x": 4,
                                "y": 48,
                                "c": 1
                            },
                            {
                                "x": 5,
                                "y": 24,
                                "c": 0
                            },
                            {
                                "x": 5,
                                "y": 28,
                                "c": 1
                            },
                            {
                                "x": 6,
                                "y": 87,
                                "c": 0
                            },
                            {
                                "x": 6,
                                "y": 66,
                                "c": 1
                            },
                            {
                                "x": 7,
                                "y": 17,
                                "c": 0
                            },
                            {
                                "x": 7,
                                "y": 27,
                                "c": 1
                            },
                            {
                                "x": 8,
                                "y": 68,
                                "c": 0
                            },
                            {
                                "x": 8,
                                "y": 16,
                                "c": 1
                            },
                            {
                                "x": 9,
                                "y": 49,
                                "c": 0
                            },
                            {
                                "x": 9,
                                "y": 25,
                                "c": 1
                            }
                        ]
                    }
                ],
                "scales": [
                    {
                        "name": "x",
                        "type": "point",
                        "range": "width",
                        "domain": {
                            "data": "table",
                            "field": "x"
                        }
                    },
                    {
                        "name": "y",
                        "type": "linear",
                        "range": "height",
                        "nice": true,
                        "zero": true,
                        "domain": {
                            "data": "table",
                            "field": "y"
                        }
                    },
                    {
                        "name": "color",
                        "type": "ordinal",
                        "range": "category",
                        "domain": {
                            "data": "table",
                            "field": "c"
                        }
                    }
                ],
                "axes": [
                    {
                        "orient": "bottom",
                        "scale": "x"
                    },
                    {
                        "orient": "left",
                        "scale": "y"
                    }
                ],
                "marks": [
                    {
                        "type": "group",
                        "from": {
                            "facet": {
                                "name": "series",
                                "data": "table",
                                "groupby": "c"
                            }
                        },
                        "marks": [
                            {
                                "type": "line",
                                "from": {
                                    "data": "series"
                                },
                                "encode": {
                                    "enter": {
                                        "x": {
                                            "scale": "x",
                                            "field": "x"
                                        },
                                        "y": {
                                            "scale": "y",
                                            "field": "y"
                                        },
                                        "stroke": {
                                            "scale": "color",
                                            "field": "c"
                                        },
                                        "strokeWidth": {
                                            "value": 2
                                        }
                                    },
                                    "update": {
                                        "interpolate": {
                                            "signal": "interpolate"
                                        },
                                        "fillOpacity": {
                                            "value": 1
                                        }
                                    },
                                    "hover": {
                                        "fillOpacity": {
                                            "value": 0.5
                                        }
                                    }
                                }
                            }
                        ]
                    }
                ]
            }
          },
          "metadata": {},
          "output_type": "display_data"
        }
      ],
      "source": [
        "# render application/vnd.vega.v5+json \n"
      ]
    },
    {
      "cell_type": "code",
      "execution_count": 1,
      "metadata": {},
      "outputs": [
        {
          "data": {
            "text/latex": [
                "$$a^2 + y = 3$$"
            ]
          },
          "metadata": {},
          "output_type": "display_data"
        }
      ],
      "source": [
        "# render latex \n"
      ]
    },
    {
      "cell_type": "code",
      "execution_count": 1,
      "metadata": {},
      "outputs": [
        {
          "data": {
            "text/markdown": [
                "# Do\nit"
            ]
          },
          "metadata": {},
          "output_type": "display_data"
        }
      ],
      "source": [
        "# render markdown \n"
      ]
    },
    {
      "cell_type": "code",
      "execution_count": 1,
      "metadata": {},
      "outputs": [
        {
          "data": {
            "application/json": {
              "name": "vscode",
              "org": {
                "name": "microsoft"
              }
            }
          },
          "metadata": {},
          "output_type": "display_data"
        }
      ],
      "source": [
        "# render application/json \n"
      ]
    },
    {
      "cell_type": "code",
      "execution_count": 1,
      "metadata": {},
      "outputs": [
        {
          "data": {
            "application/vnd.plotly.v1+json": {
              "data": [
                  { "x": [1999, 2000, 2001, 2002], "y": [10, 15, 13, 17], "type": "scatter" },
                  { "x": [1999, 2000, 2001, 2002], "y": [16, 5, 11, 9], "type": "scatter" }
              ],
              "layout": {
                  "title": "Super Stuff",
                  "xaxis": { "title": "Year", "showgrid": false, "zeroline": false },
                  "yaxis": { "title": "Percent", "showline": false },
                  "height": "100px"
              }
            }
          },
          "metadata": {},
          "output_type": "display_data"
        }
      ],
      "source": [
        "# render application/vnd.plotly.v1+json \n"
      ]
    },
    {
      "cell_type": "code",
      "execution_count": 1,
      "metadata": {},
      "outputs": [
        {
          "data": {
            "application/vnd.vega.v5+json": {
                "$schema": "https://vega.github.io/schema/vega/v5.json",
                "width": 500,
                "height": 200,
                "padding": 5,
                "signals": [
                    {
                        "name": "interpolate",
                        "value": "linear",
                        "bind": {
                            "input": "select",
                            "options": [
                                "basis",
                                "cardinal",
                                "catmull-rom",
                                "linear",
                                "monotone",
                                "natural",
                                "step",
                                "step-after",
                                "step-before"
                            ]
                        }
                    }
                ],
                "data": [
                    {
                        "name": "table",
                        "values": [
                            {
                                "x": 0,
                                "y": 28,
                                "c": 0
                            },
                            {
                                "x": 0,
                                "y": 20,
                                "c": 1
                            },
                            {
                                "x": 1,
                                "y": 43,
                                "c": 0
                            },
                            {
                                "x": 1,
                                "y": 35,
                                "c": 1
                            },
                            {
                                "x": 2,
                                "y": 81,
                                "c": 0
                            },
                            {
                                "x": 2,
                                "y": 10,
                                "c": 1
                            },
                            {
                                "x": 3,
                                "y": 19,
                                "c": 0
                            },
                            {
                                "x": 3,
                                "y": 15,
                                "c": 1
                            },
                            {
                                "x": 4,
                                "y": 52,
                                "c": 0
                            },
                            {
                                "x": 4,
                                "y": 48,
                                "c": 1
                            },
                            {
                                "x": 5,
                                "y": 24,
                                "c": 0
                            },
                            {
                                "x": 5,
                                "y": 28,
                                "c": 1
                            },
                            {
                                "x": 6,
                                "y": 87,
                                "c": 0
                            },
                            {
                                "x": 6,
                                "y": 66,
                                "c": 1
                            },
                            {
                                "x": 7,
                                "y": 17,
                                "c": 0
                            },
                            {
                                "x": 7,
                                "y": 27,
                                "c": 1
                            },
                            {
                                "x": 8,
                                "y": 68,
                                "c": 0
                            },
                            {
                                "x": 8,
                                "y": 16,
                                "c": 1
                            },
                            {
                                "x": 9,
                                "y": 49,
                                "c": 0
                            },
                            {
                                "x": 9,
                                "y": 25,
                                "c": 1
                            }
                        ]
                    }
                ],
                "scales": [
                    {
                        "name": "x",
                        "type": "point",
                        "range": "width",
                        "domain": {
                            "data": "table",
                            "field": "x"
                        }
                    },
                    {
                        "name": "y",
                        "type": "linear",
                        "range": "height",
                        "nice": true,
                        "zero": true,
                        "domain": {
                            "data": "table",
                            "field": "y"
                        }
                    },
                    {
                        "name": "color",
                        "type": "ordinal",
                        "range": "category",
                        "domain": {
                            "data": "table",
                            "field": "c"
                        }
                    }
                ],
                "axes": [
                    {
                        "orient": "bottom",
                        "scale": "x"
                    },
                    {
                        "orient": "left",
                        "scale": "y"
                    }
                ],
                "marks": [
                    {
                        "type": "group",
                        "from": {
                            "facet": {
                                "name": "series",
                                "data": "table",
                                "groupby": "c"
                            }
                        },
                        "marks": [
                            {
                                "type": "line",
                                "from": {
                                    "data": "series"
                                },
                                "encode": {
                                    "enter": {
                                        "x": {
                                            "scale": "x",
                                            "field": "x"
                                        },
                                        "y": {
                                            "scale": "y",
                                            "field": "y"
                                        },
                                        "stroke": {
                                            "scale": "color",
                                            "field": "c"
                                        },
                                        "strokeWidth": {
                                            "value": 2
                                        }
                                    },
                                    "update": {
                                        "interpolate": {
                                            "signal": "interpolate"
                                        },
                                        "fillOpacity": {
                                            "value": 1
                                        }
                                    },
                                    "hover": {
                                        "fillOpacity": {
                                            "value": 0.5
                                        }
                                    }
                                }
                            }
                        ]
                    }
                ]
            }
          },
          "metadata": {},
          "output_type": "display_data"
        }
      ],
      "source": [
        "# render application/vnd.vega.v5+json \n"
      ]
    },
    {
      "cell_type": "code",
      "execution_count": 1,
      "metadata": {},
      "outputs": [
        {
          "data": {
            "text/latex": [
                "$$a^2 + y = 3$$"
            ]
          },
          "metadata": {},
          "output_type": "display_data"
        }
      ],
      "source": [
        "# render latex \n"
      ]
    },
    {
      "cell_type": "code",
      "execution_count": 1,
      "metadata": {},
      "outputs": [
        {
          "data": {
            "text/markdown": [
                "# Do\nit"
            ]
          },
          "metadata": {},
          "output_type": "display_data"
        }
      ],
      "source": [
        "# render markdown \n"
      ]
    },
    {
      "cell_type": "code",
      "execution_count": 1,
      "metadata": {},
      "outputs": [
        {
          "data": {
            "application/json": {
              "name": "vscode",
              "org": {
                "name": "microsoft"
              }
            }
          },
          "metadata": {},
          "output_type": "display_data"
        }
      ],
      "source": [
        "# render application/json \n"
      ]
    },
    {
      "cell_type": "code",
      "execution_count": 1,
      "metadata": {},
      "outputs": [
        {
          "data": {
            "application/vnd.plotly.v1+json": {
              "data": [
                  { "x": [1999, 2000, 2001, 2002], "y": [10, 15, 13, 17], "type": "scatter" },
                  { "x": [1999, 2000, 2001, 2002], "y": [16, 5, 11, 9], "type": "scatter" }
              ],
              "layout": {
                  "title": "Super Stuff",
                  "xaxis": { "title": "Year", "showgrid": false, "zeroline": false },
                  "yaxis": { "title": "Percent", "showline": false },
                  "height": "100px"
              }
            }
          },
          "metadata": {},
          "output_type": "display_data"
        }
      ],
      "source": [
        "# render application/vnd.plotly.v1+json \n"
      ]
    },
    {
      "cell_type": "code",
      "execution_count": 1,
      "metadata": {},
      "outputs": [
        {
          "data": {
            "application/vnd.vega.v5+json": {
                "$schema": "https://vega.github.io/schema/vega/v5.json",
                "width": 500,
                "height": 200,
                "padding": 5,
                "signals": [
                    {
                        "name": "interpolate",
                        "value": "linear",
                        "bind": {
                            "input": "select",
                            "options": [
                                "basis",
                                "cardinal",
                                "catmull-rom",
                                "linear",
                                "monotone",
                                "natural",
                                "step",
                                "step-after",
                                "step-before"
                            ]
                        }
                    }
                ],
                "data": [
                    {
                        "name": "table",
                        "values": [
                            {
                                "x": 0,
                                "y": 28,
                                "c": 0
                            },
                            {
                                "x": 0,
                                "y": 20,
                                "c": 1
                            },
                            {
                                "x": 1,
                                "y": 43,
                                "c": 0
                            },
                            {
                                "x": 1,
                                "y": 35,
                                "c": 1
                            },
                            {
                                "x": 2,
                                "y": 81,
                                "c": 0
                            },
                            {
                                "x": 2,
                                "y": 10,
                                "c": 1
                            },
                            {
                                "x": 3,
                                "y": 19,
                                "c": 0
                            },
                            {
                                "x": 3,
                                "y": 15,
                                "c": 1
                            },
                            {
                                "x": 4,
                                "y": 52,
                                "c": 0
                            },
                            {
                                "x": 4,
                                "y": 48,
                                "c": 1
                            },
                            {
                                "x": 5,
                                "y": 24,
                                "c": 0
                            },
                            {
                                "x": 5,
                                "y": 28,
                                "c": 1
                            },
                            {
                                "x": 6,
                                "y": 87,
                                "c": 0
                            },
                            {
                                "x": 6,
                                "y": 66,
                                "c": 1
                            },
                            {
                                "x": 7,
                                "y": 17,
                                "c": 0
                            },
                            {
                                "x": 7,
                                "y": 27,
                                "c": 1
                            },
                            {
                                "x": 8,
                                "y": 68,
                                "c": 0
                            },
                            {
                                "x": 8,
                                "y": 16,
                                "c": 1
                            },
                            {
                                "x": 9,
                                "y": 49,
                                "c": 0
                            },
                            {
                                "x": 9,
                                "y": 25,
                                "c": 1
                            }
                        ]
                    }
                ],
                "scales": [
                    {
                        "name": "x",
                        "type": "point",
                        "range": "width",
                        "domain": {
                            "data": "table",
                            "field": "x"
                        }
                    },
                    {
                        "name": "y",
                        "type": "linear",
                        "range": "height",
                        "nice": true,
                        "zero": true,
                        "domain": {
                            "data": "table",
                            "field": "y"
                        }
                    },
                    {
                        "name": "color",
                        "type": "ordinal",
                        "range": "category",
                        "domain": {
                            "data": "table",
                            "field": "c"
                        }
                    }
                ],
                "axes": [
                    {
                        "orient": "bottom",
                        "scale": "x"
                    },
                    {
                        "orient": "left",
                        "scale": "y"
                    }
                ],
                "marks": [
                    {
                        "type": "group",
                        "from": {
                            "facet": {
                                "name": "series",
                                "data": "table",
                                "groupby": "c"
                            }
                        },
                        "marks": [
                            {
                                "type": "line",
                                "from": {
                                    "data": "series"
                                },
                                "encode": {
                                    "enter": {
                                        "x": {
                                            "scale": "x",
                                            "field": "x"
                                        },
                                        "y": {
                                            "scale": "y",
                                            "field": "y"
                                        },
                                        "stroke": {
                                            "scale": "color",
                                            "field": "c"
                                        },
                                        "strokeWidth": {
                                            "value": 2
                                        }
                                    },
                                    "update": {
                                        "interpolate": {
                                            "signal": "interpolate"
                                        },
                                        "fillOpacity": {
                                            "value": 1
                                        }
                                    },
                                    "hover": {
                                        "fillOpacity": {
                                            "value": 0.5
                                        }
                                    }
                                }
                            }
                        ]
                    }
                ]
            }
          },
          "metadata": {},
          "output_type": "display_data"
        }
      ],
      "source": [
        "# render application/vnd.vega.v5+json \n"
      ]
    },
    {
      "cell_type": "code",
      "execution_count": 1,
      "metadata": {},
      "outputs": [
        {
          "data": {
            "text/latex": [
                "$$a^2 + y = 3$$"
            ]
          },
          "metadata": {},
          "output_type": "display_data"
        }
      ],
      "source": [
        "# render latex \n"
      ]
    },
    {
      "cell_type": "code",
      "execution_count": 1,
      "metadata": {},
      "outputs": [
        {
          "data": {
            "text/markdown": [
                "# Do\nit"
            ]
          },
          "metadata": {},
          "output_type": "display_data"
        }
      ],
      "source": [
        "# render markdown \n"
      ]
    },
    {
      "cell_type": "code",
      "execution_count": 1,
      "metadata": {},
      "outputs": [
        {
          "data": {
            "application/json": {
              "name": "vscode",
              "org": {
                "name": "microsoft"
              }
            }
          },
          "metadata": {},
          "output_type": "display_data"
        }
      ],
      "source": [
        "# render application/json \n"
      ]
    },
    {
      "cell_type": "code",
      "execution_count": 1,
      "metadata": {},
      "outputs": [
        {
          "data": {
            "application/vnd.plotly.v1+json": {
              "data": [
                  { "x": [1999, 2000, 2001, 2002], "y": [10, 15, 13, 17], "type": "scatter" },
                  { "x": [1999, 2000, 2001, 2002], "y": [16, 5, 11, 9], "type": "scatter" }
              ],
              "layout": {
                  "title": "Super Stuff",
                  "xaxis": { "title": "Year", "showgrid": false, "zeroline": false },
                  "yaxis": { "title": "Percent", "showline": false },
                  "height": "100px"
              }
            }
          },
          "metadata": {},
          "output_type": "display_data"
        }
      ],
      "source": [
        "# render application/vnd.plotly.v1+json \n"
      ]
    },
    {
      "cell_type": "code",
      "execution_count": 1,
      "metadata": {},
      "outputs": [
        {
          "data": {
            "application/vnd.vega.v5+json": {
                "$schema": "https://vega.github.io/schema/vega/v5.json",
                "width": 500,
                "height": 200,
                "padding": 5,
                "signals": [
                    {
                        "name": "interpolate",
                        "value": "linear",
                        "bind": {
                            "input": "select",
                            "options": [
                                "basis",
                                "cardinal",
                                "catmull-rom",
                                "linear",
                                "monotone",
                                "natural",
                                "step",
                                "step-after",
                                "step-before"
                            ]
                        }
                    }
                ],
                "data": [
                    {
                        "name": "table",
                        "values": [
                            {
                                "x": 0,
                                "y": 28,
                                "c": 0
                            },
                            {
                                "x": 0,
                                "y": 20,
                                "c": 1
                            },
                            {
                                "x": 1,
                                "y": 43,
                                "c": 0
                            },
                            {
                                "x": 1,
                                "y": 35,
                                "c": 1
                            },
                            {
                                "x": 2,
                                "y": 81,
                                "c": 0
                            },
                            {
                                "x": 2,
                                "y": 10,
                                "c": 1
                            },
                            {
                                "x": 3,
                                "y": 19,
                                "c": 0
                            },
                            {
                                "x": 3,
                                "y": 15,
                                "c": 1
                            },
                            {
                                "x": 4,
                                "y": 52,
                                "c": 0
                            },
                            {
                                "x": 4,
                                "y": 48,
                                "c": 1
                            },
                            {
                                "x": 5,
                                "y": 24,
                                "c": 0
                            },
                            {
                                "x": 5,
                                "y": 28,
                                "c": 1
                            },
                            {
                                "x": 6,
                                "y": 87,
                                "c": 0
                            },
                            {
                                "x": 6,
                                "y": 66,
                                "c": 1
                            },
                            {
                                "x": 7,
                                "y": 17,
                                "c": 0
                            },
                            {
                                "x": 7,
                                "y": 27,
                                "c": 1
                            },
                            {
                                "x": 8,
                                "y": 68,
                                "c": 0
                            },
                            {
                                "x": 8,
                                "y": 16,
                                "c": 1
                            },
                            {
                                "x": 9,
                                "y": 49,
                                "c": 0
                            },
                            {
                                "x": 9,
                                "y": 25,
                                "c": 1
                            }
                        ]
                    }
                ],
                "scales": [
                    {
                        "name": "x",
                        "type": "point",
                        "range": "width",
                        "domain": {
                            "data": "table",
                            "field": "x"
                        }
                    },
                    {
                        "name": "y",
                        "type": "linear",
                        "range": "height",
                        "nice": true,
                        "zero": true,
                        "domain": {
                            "data": "table",
                            "field": "y"
                        }
                    },
                    {
                        "name": "color",
                        "type": "ordinal",
                        "range": "category",
                        "domain": {
                            "data": "table",
                            "field": "c"
                        }
                    }
                ],
                "axes": [
                    {
                        "orient": "bottom",
                        "scale": "x"
                    },
                    {
                        "orient": "left",
                        "scale": "y"
                    }
                ],
                "marks": [
                    {
                        "type": "group",
                        "from": {
                            "facet": {
                                "name": "series",
                                "data": "table",
                                "groupby": "c"
                            }
                        },
                        "marks": [
                            {
                                "type": "line",
                                "from": {
                                    "data": "series"
                                },
                                "encode": {
                                    "enter": {
                                        "x": {
                                            "scale": "x",
                                            "field": "x"
                                        },
                                        "y": {
                                            "scale": "y",
                                            "field": "y"
                                        },
                                        "stroke": {
                                            "scale": "color",
                                            "field": "c"
                                        },
                                        "strokeWidth": {
                                            "value": 2
                                        }
                                    },
                                    "update": {
                                        "interpolate": {
                                            "signal": "interpolate"
                                        },
                                        "fillOpacity": {
                                            "value": 1
                                        }
                                    },
                                    "hover": {
                                        "fillOpacity": {
                                            "value": 0.5
                                        }
                                    }
                                }
                            }
                        ]
                    }
                ]
            }
          },
          "metadata": {},
          "output_type": "display_data"
        }
      ],
      "source": [
        "# render application/vnd.vega.v5+json \n"
      ]
    },
    {
      "cell_type": "code",
      "execution_count": 1,
      "metadata": {},
      "outputs": [
        {
          "data": {
            "text/latex": [
                "$$a^2 + y = 3$$"
            ]
          },
          "metadata": {},
          "output_type": "display_data"
        }
      ],
      "source": [
        "# render latex \n"
      ]
    },
    {
      "cell_type": "code",
      "execution_count": 1,
      "metadata": {},
      "outputs": [
        {
          "data": {
            "text/markdown": [
                "# Do\nit"
            ]
          },
          "metadata": {},
          "output_type": "display_data"
        }
      ],
      "source": [
        "# render markdown \n"
      ]
    },
    {
      "cell_type": "code",
      "execution_count": 1,
      "metadata": {},
      "outputs": [
        {
          "data": {
            "application/json": {
              "name": "vscode",
              "org": {
                "name": "microsoft"
              }
            }
          },
          "metadata": {},
          "output_type": "display_data"
        }
      ],
      "source": [
        "# render application/json \n"
      ]
    },
    {
      "cell_type": "code",
      "execution_count": 1,
      "metadata": {},
      "outputs": [
        {
          "data": {
            "application/vnd.plotly.v1+json": {
              "data": [
                  { "x": [1999, 2000, 2001, 2002], "y": [10, 15, 13, 17], "type": "scatter" },
                  { "x": [1999, 2000, 2001, 2002], "y": [16, 5, 11, 9], "type": "scatter" }
              ],
              "layout": {
                  "title": "Super Stuff",
                  "xaxis": { "title": "Year", "showgrid": false, "zeroline": false },
                  "yaxis": { "title": "Percent", "showline": false },
                  "height": "100px"
              }
            }
          },
          "metadata": {},
          "output_type": "display_data"
        }
      ],
      "source": [
        "# render application/vnd.plotly.v1+json \n"
      ]
    },
    {
      "cell_type": "code",
      "execution_count": 1,
      "metadata": {},
      "outputs": [
        {
          "data": {
            "application/vnd.vega.v5+json": {
                "$schema": "https://vega.github.io/schema/vega/v5.json",
                "width": 500,
                "height": 200,
                "padding": 5,
                "signals": [
                    {
                        "name": "interpolate",
                        "value": "linear",
                        "bind": {
                            "input": "select",
                            "options": [
                                "basis",
                                "cardinal",
                                "catmull-rom",
                                "linear",
                                "monotone",
                                "natural",
                                "step",
                                "step-after",
                                "step-before"
                            ]
                        }
                    }
                ],
                "data": [
                    {
                        "name": "table",
                        "values": [
                            {
                                "x": 0,
                                "y": 28,
                                "c": 0
                            },
                            {
                                "x": 0,
                                "y": 20,
                                "c": 1
                            },
                            {
                                "x": 1,
                                "y": 43,
                                "c": 0
                            },
                            {
                                "x": 1,
                                "y": 35,
                                "c": 1
                            },
                            {
                                "x": 2,
                                "y": 81,
                                "c": 0
                            },
                            {
                                "x": 2,
                                "y": 10,
                                "c": 1
                            },
                            {
                                "x": 3,
                                "y": 19,
                                "c": 0
                            },
                            {
                                "x": 3,
                                "y": 15,
                                "c": 1
                            },
                            {
                                "x": 4,
                                "y": 52,
                                "c": 0
                            },
                            {
                                "x": 4,
                                "y": 48,
                                "c": 1
                            },
                            {
                                "x": 5,
                                "y": 24,
                                "c": 0
                            },
                            {
                                "x": 5,
                                "y": 28,
                                "c": 1
                            },
                            {
                                "x": 6,
                                "y": 87,
                                "c": 0
                            },
                            {
                                "x": 6,
                                "y": 66,
                                "c": 1
                            },
                            {
                                "x": 7,
                                "y": 17,
                                "c": 0
                            },
                            {
                                "x": 7,
                                "y": 27,
                                "c": 1
                            },
                            {
                                "x": 8,
                                "y": 68,
                                "c": 0
                            },
                            {
                                "x": 8,
                                "y": 16,
                                "c": 1
                            },
                            {
                                "x": 9,
                                "y": 49,
                                "c": 0
                            },
                            {
                                "x": 9,
                                "y": 25,
                                "c": 1
                            }
                        ]
                    }
                ],
                "scales": [
                    {
                        "name": "x",
                        "type": "point",
                        "range": "width",
                        "domain": {
                            "data": "table",
                            "field": "x"
                        }
                    },
                    {
                        "name": "y",
                        "type": "linear",
                        "range": "height",
                        "nice": true,
                        "zero": true,
                        "domain": {
                            "data": "table",
                            "field": "y"
                        }
                    },
                    {
                        "name": "color",
                        "type": "ordinal",
                        "range": "category",
                        "domain": {
                            "data": "table",
                            "field": "c"
                        }
                    }
                ],
                "axes": [
                    {
                        "orient": "bottom",
                        "scale": "x"
                    },
                    {
                        "orient": "left",
                        "scale": "y"
                    }
                ],
                "marks": [
                    {
                        "type": "group",
                        "from": {
                            "facet": {
                                "name": "series",
                                "data": "table",
                                "groupby": "c"
                            }
                        },
                        "marks": [
                            {
                                "type": "line",
                                "from": {
                                    "data": "series"
                                },
                                "encode": {
                                    "enter": {
                                        "x": {
                                            "scale": "x",
                                            "field": "x"
                                        },
                                        "y": {
                                            "scale": "y",
                                            "field": "y"
                                        },
                                        "stroke": {
                                            "scale": "color",
                                            "field": "c"
                                        },
                                        "strokeWidth": {
                                            "value": 2
                                        }
                                    },
                                    "update": {
                                        "interpolate": {
                                            "signal": "interpolate"
                                        },
                                        "fillOpacity": {
                                            "value": 1
                                        }
                                    },
                                    "hover": {
                                        "fillOpacity": {
                                            "value": 0.5
                                        }
                                    }
                                }
                            }
                        ]
                    }
                ]
            }
          },
          "metadata": {},
          "output_type": "display_data"
        }
      ],
      "source": [
        "# render application/vnd.vega.v5+json \n"
      ]
    },
    {
      "cell_type": "code",
      "execution_count": 1,
      "metadata": {},
      "outputs": [
        {
          "data": {
            "text/latex": [
                "$$a^2 + y = 3$$"
            ]
          },
          "metadata": {},
          "output_type": "display_data"
        }
      ],
      "source": [
        "# render latex \n"
      ]
    },
    {
      "cell_type": "code",
      "execution_count": 1,
      "metadata": {},
      "outputs": [
        {
          "data": {
            "text/markdown": [
                "# Do\nit"
            ]
          },
          "metadata": {},
          "output_type": "display_data"
        }
      ],
      "source": [
        "# render markdown \n"
      ]
    },
    {
      "cell_type": "code",
      "execution_count": 1,
      "metadata": {},
      "outputs": [
        {
          "data": {
            "application/json": {
              "name": "vscode",
              "org": {
                "name": "microsoft"
              }
            }
          },
          "metadata": {},
          "output_type": "display_data"
        }
      ],
      "source": [
        "# render application/json \n"
      ]
    },
    {
      "cell_type": "code",
      "execution_count": 1,
      "metadata": {},
      "outputs": [
        {
          "data": {
            "application/vnd.plotly.v1+json": {
              "data": [
                  { "x": [1999, 2000, 2001, 2002], "y": [10, 15, 13, 17], "type": "scatter" },
                  { "x": [1999, 2000, 2001, 2002], "y": [16, 5, 11, 9], "type": "scatter" }
              ],
              "layout": {
                  "title": "Super Stuff",
                  "xaxis": { "title": "Year", "showgrid": false, "zeroline": false },
                  "yaxis": { "title": "Percent", "showline": false },
                  "height": "100px"
              }
            }
          },
          "metadata": {},
          "output_type": "display_data"
        }
      ],
      "source": [
        "# render application/vnd.plotly.v1+json \n"
      ]
    },
    {
      "cell_type": "code",
      "execution_count": 1,
      "metadata": {},
      "outputs": [
        {
          "data": {
            "application/vnd.vega.v5+json": {
                "$schema": "https://vega.github.io/schema/vega/v5.json",
                "width": 500,
                "height": 200,
                "padding": 5,
                "signals": [
                    {
                        "name": "interpolate",
                        "value": "linear",
                        "bind": {
                            "input": "select",
                            "options": [
                                "basis",
                                "cardinal",
                                "catmull-rom",
                                "linear",
                                "monotone",
                                "natural",
                                "step",
                                "step-after",
                                "step-before"
                            ]
                        }
                    }
                ],
                "data": [
                    {
                        "name": "table",
                        "values": [
                            {
                                "x": 0,
                                "y": 28,
                                "c": 0
                            },
                            {
                                "x": 0,
                                "y": 20,
                                "c": 1
                            },
                            {
                                "x": 1,
                                "y": 43,
                                "c": 0
                            },
                            {
                                "x": 1,
                                "y": 35,
                                "c": 1
                            },
                            {
                                "x": 2,
                                "y": 81,
                                "c": 0
                            },
                            {
                                "x": 2,
                                "y": 10,
                                "c": 1
                            },
                            {
                                "x": 3,
                                "y": 19,
                                "c": 0
                            },
                            {
                                "x": 3,
                                "y": 15,
                                "c": 1
                            },
                            {
                                "x": 4,
                                "y": 52,
                                "c": 0
                            },
                            {
                                "x": 4,
                                "y": 48,
                                "c": 1
                            },
                            {
                                "x": 5,
                                "y": 24,
                                "c": 0
                            },
                            {
                                "x": 5,
                                "y": 28,
                                "c": 1
                            },
                            {
                                "x": 6,
                                "y": 87,
                                "c": 0
                            },
                            {
                                "x": 6,
                                "y": 66,
                                "c": 1
                            },
                            {
                                "x": 7,
                                "y": 17,
                                "c": 0
                            },
                            {
                                "x": 7,
                                "y": 27,
                                "c": 1
                            },
                            {
                                "x": 8,
                                "y": 68,
                                "c": 0
                            },
                            {
                                "x": 8,
                                "y": 16,
                                "c": 1
                            },
                            {
                                "x": 9,
                                "y": 49,
                                "c": 0
                            },
                            {
                                "x": 9,
                                "y": 25,
                                "c": 1
                            }
                        ]
                    }
                ],
                "scales": [
                    {
                        "name": "x",
                        "type": "point",
                        "range": "width",
                        "domain": {
                            "data": "table",
                            "field": "x"
                        }
                    },
                    {
                        "name": "y",
                        "type": "linear",
                        "range": "height",
                        "nice": true,
                        "zero": true,
                        "domain": {
                            "data": "table",
                            "field": "y"
                        }
                    },
                    {
                        "name": "color",
                        "type": "ordinal",
                        "range": "category",
                        "domain": {
                            "data": "table",
                            "field": "c"
                        }
                    }
                ],
                "axes": [
                    {
                        "orient": "bottom",
                        "scale": "x"
                    },
                    {
                        "orient": "left",
                        "scale": "y"
                    }
                ],
                "marks": [
                    {
                        "type": "group",
                        "from": {
                            "facet": {
                                "name": "series",
                                "data": "table",
                                "groupby": "c"
                            }
                        },
                        "marks": [
                            {
                                "type": "line",
                                "from": {
                                    "data": "series"
                                },
                                "encode": {
                                    "enter": {
                                        "x": {
                                            "scale": "x",
                                            "field": "x"
                                        },
                                        "y": {
                                            "scale": "y",
                                            "field": "y"
                                        },
                                        "stroke": {
                                            "scale": "color",
                                            "field": "c"
                                        },
                                        "strokeWidth": {
                                            "value": 2
                                        }
                                    },
                                    "update": {
                                        "interpolate": {
                                            "signal": "interpolate"
                                        },
                                        "fillOpacity": {
                                            "value": 1
                                        }
                                    },
                                    "hover": {
                                        "fillOpacity": {
                                            "value": 0.5
                                        }
                                    }
                                }
                            }
                        ]
                    }
                ]
            }
          },
          "metadata": {},
          "output_type": "display_data"
        }
      ],
      "source": [
        "# render application/vnd.vega.v5+json \n"
      ]
    },
    {
      "cell_type": "code",
      "execution_count": 1,
      "metadata": {},
      "outputs": [
        {
          "data": {
            "text/latex": [
                "$$a^2 + y = 3$$"
            ]
          },
          "metadata": {},
          "output_type": "display_data"
        }
      ],
      "source": [
        "# render latex \n"
      ]
    },
    {
      "cell_type": "code",
      "execution_count": 1,
      "metadata": {},
      "outputs": [
        {
          "data": {
            "text/markdown": [
                "# Do\nit"
            ]
          },
          "metadata": {},
          "output_type": "display_data"
        }
      ],
      "source": [
        "# render markdown \n"
      ]
    },
    {
      "cell_type": "code",
      "execution_count": 1,
      "metadata": {},
      "outputs": [
        {
          "data": {
            "application/json": {
              "name": "vscode",
              "org": {
                "name": "microsoft"
              }
            }
          },
          "metadata": {},
          "output_type": "display_data"
        }
      ],
      "source": [
        "# render application/json \n"
      ]
    },
    {
      "cell_type": "code",
      "execution_count": 1,
      "metadata": {},
      "outputs": [
        {
          "data": {
            "application/vnd.plotly.v1+json": {
              "data": [
                  { "x": [1999, 2000, 2001, 2002], "y": [10, 15, 13, 17], "type": "scatter" },
                  { "x": [1999, 2000, 2001, 2002], "y": [16, 5, 11, 9], "type": "scatter" }
              ],
              "layout": {
                  "title": "Super Stuff",
                  "xaxis": { "title": "Year", "showgrid": false, "zeroline": false },
                  "yaxis": { "title": "Percent", "showline": false },
                  "height": "100px"
              }
            }
          },
          "metadata": {},
          "output_type": "display_data"
        }
      ],
      "source": [
        "# render application/vnd.plotly.v1+json \n"
      ]
    },
    {
      "cell_type": "code",
      "execution_count": 1,
      "metadata": {},
      "outputs": [
        {
          "data": {
            "application/vnd.vega.v5+json": {
                "$schema": "https://vega.github.io/schema/vega/v5.json",
                "width": 500,
                "height": 200,
                "padding": 5,
                "signals": [
                    {
                        "name": "interpolate",
                        "value": "linear",
                        "bind": {
                            "input": "select",
                            "options": [
                                "basis",
                                "cardinal",
                                "catmull-rom",
                                "linear",
                                "monotone",
                                "natural",
                                "step",
                                "step-after",
                                "step-before"
                            ]
                        }
                    }
                ],
                "data": [
                    {
                        "name": "table",
                        "values": [
                            {
                                "x": 0,
                                "y": 28,
                                "c": 0
                            },
                            {
                                "x": 0,
                                "y": 20,
                                "c": 1
                            },
                            {
                                "x": 1,
                                "y": 43,
                                "c": 0
                            },
                            {
                                "x": 1,
                                "y": 35,
                                "c": 1
                            },
                            {
                                "x": 2,
                                "y": 81,
                                "c": 0
                            },
                            {
                                "x": 2,
                                "y": 10,
                                "c": 1
                            },
                            {
                                "x": 3,
                                "y": 19,
                                "c": 0
                            },
                            {
                                "x": 3,
                                "y": 15,
                                "c": 1
                            },
                            {
                                "x": 4,
                                "y": 52,
                                "c": 0
                            },
                            {
                                "x": 4,
                                "y": 48,
                                "c": 1
                            },
                            {
                                "x": 5,
                                "y": 24,
                                "c": 0
                            },
                            {
                                "x": 5,
                                "y": 28,
                                "c": 1
                            },
                            {
                                "x": 6,
                                "y": 87,
                                "c": 0
                            },
                            {
                                "x": 6,
                                "y": 66,
                                "c": 1
                            },
                            {
                                "x": 7,
                                "y": 17,
                                "c": 0
                            },
                            {
                                "x": 7,
                                "y": 27,
                                "c": 1
                            },
                            {
                                "x": 8,
                                "y": 68,
                                "c": 0
                            },
                            {
                                "x": 8,
                                "y": 16,
                                "c": 1
                            },
                            {
                                "x": 9,
                                "y": 49,
                                "c": 0
                            },
                            {
                                "x": 9,
                                "y": 25,
                                "c": 1
                            }
                        ]
                    }
                ],
                "scales": [
                    {
                        "name": "x",
                        "type": "point",
                        "range": "width",
                        "domain": {
                            "data": "table",
                            "field": "x"
                        }
                    },
                    {
                        "name": "y",
                        "type": "linear",
                        "range": "height",
                        "nice": true,
                        "zero": true,
                        "domain": {
                            "data": "table",
                            "field": "y"
                        }
                    },
                    {
                        "name": "color",
                        "type": "ordinal",
                        "range": "category",
                        "domain": {
                            "data": "table",
                            "field": "c"
                        }
                    }
                ],
                "axes": [
                    {
                        "orient": "bottom",
                        "scale": "x"
                    },
                    {
                        "orient": "left",
                        "scale": "y"
                    }
                ],
                "marks": [
                    {
                        "type": "group",
                        "from": {
                            "facet": {
                                "name": "series",
                                "data": "table",
                                "groupby": "c"
                            }
                        },
                        "marks": [
                            {
                                "type": "line",
                                "from": {
                                    "data": "series"
                                },
                                "encode": {
                                    "enter": {
                                        "x": {
                                            "scale": "x",
                                            "field": "x"
                                        },
                                        "y": {
                                            "scale": "y",
                                            "field": "y"
                                        },
                                        "stroke": {
                                            "scale": "color",
                                            "field": "c"
                                        },
                                        "strokeWidth": {
                                            "value": 2
                                        }
                                    },
                                    "update": {
                                        "interpolate": {
                                            "signal": "interpolate"
                                        },
                                        "fillOpacity": {
                                            "value": 1
                                        }
                                    },
                                    "hover": {
                                        "fillOpacity": {
                                            "value": 0.5
                                        }
                                    }
                                }
                            }
                        ]
                    }
                ]
            }
          },
          "metadata": {},
          "output_type": "display_data"
        }
      ],
      "source": [
        "# render application/vnd.vega.v5+json \n"
      ]
    },
    {
      "cell_type": "code",
      "execution_count": 1,
      "metadata": {},
      "outputs": [
        {
          "data": {
            "text/latex": [
                "$$a^2 + y = 3$$"
            ]
          },
          "metadata": {},
          "output_type": "display_data"
        }
      ],
      "source": [
        "# render latex \n"
      ]
    },
    {
      "cell_type": "code",
      "execution_count": 1,
      "metadata": {},
      "outputs": [
        {
          "data": {
            "text/markdown": [
                "# Do\nit"
            ]
          },
          "metadata": {},
          "output_type": "display_data"
        }
      ],
      "source": [
        "# render markdown \n"
      ]
    },
    {
      "cell_type": "code",
      "execution_count": 1,
      "metadata": {},
      "outputs": [
        {
          "data": {
            "application/json": {
              "name": "vscode",
              "org": {
                "name": "microsoft"
              }
            }
          },
          "metadata": {},
          "output_type": "display_data"
        }
      ],
      "source": [
        "# render application/json \n"
      ]
    },
    {
      "cell_type": "code",
      "execution_count": 1,
      "metadata": {},
      "outputs": [
        {
          "data": {
            "application/vnd.plotly.v1+json": {
              "data": [
                  { "x": [1999, 2000, 2001, 2002], "y": [10, 15, 13, 17], "type": "scatter" },
                  { "x": [1999, 2000, 2001, 2002], "y": [16, 5, 11, 9], "type": "scatter" }
              ],
              "layout": {
                  "title": "Super Stuff",
                  "xaxis": { "title": "Year", "showgrid": false, "zeroline": false },
                  "yaxis": { "title": "Percent", "showline": false },
                  "height": "100px"
              }
            }
          },
          "metadata": {},
          "output_type": "display_data"
        }
      ],
      "source": [
        "# render application/vnd.plotly.v1+json \n"
      ]
    },
    {
      "cell_type": "code",
      "execution_count": 1,
      "metadata": {},
      "outputs": [
        {
          "data": {
            "application/vnd.vega.v5+json": {
                "$schema": "https://vega.github.io/schema/vega/v5.json",
                "width": 500,
                "height": 200,
                "padding": 5,
                "signals": [
                    {
                        "name": "interpolate",
                        "value": "linear",
                        "bind": {
                            "input": "select",
                            "options": [
                                "basis",
                                "cardinal",
                                "catmull-rom",
                                "linear",
                                "monotone",
                                "natural",
                                "step",
                                "step-after",
                                "step-before"
                            ]
                        }
                    }
                ],
                "data": [
                    {
                        "name": "table",
                        "values": [
                            {
                                "x": 0,
                                "y": 28,
                                "c": 0
                            },
                            {
                                "x": 0,
                                "y": 20,
                                "c": 1
                            },
                            {
                                "x": 1,
                                "y": 43,
                                "c": 0
                            },
                            {
                                "x": 1,
                                "y": 35,
                                "c": 1
                            },
                            {
                                "x": 2,
                                "y": 81,
                                "c": 0
                            },
                            {
                                "x": 2,
                                "y": 10,
                                "c": 1
                            },
                            {
                                "x": 3,
                                "y": 19,
                                "c": 0
                            },
                            {
                                "x": 3,
                                "y": 15,
                                "c": 1
                            },
                            {
                                "x": 4,
                                "y": 52,
                                "c": 0
                            },
                            {
                                "x": 4,
                                "y": 48,
                                "c": 1
                            },
                            {
                                "x": 5,
                                "y": 24,
                                "c": 0
                            },
                            {
                                "x": 5,
                                "y": 28,
                                "c": 1
                            },
                            {
                                "x": 6,
                                "y": 87,
                                "c": 0
                            },
                            {
                                "x": 6,
                                "y": 66,
                                "c": 1
                            },
                            {
                                "x": 7,
                                "y": 17,
                                "c": 0
                            },
                            {
                                "x": 7,
                                "y": 27,
                                "c": 1
                            },
                            {
                                "x": 8,
                                "y": 68,
                                "c": 0
                            },
                            {
                                "x": 8,
                                "y": 16,
                                "c": 1
                            },
                            {
                                "x": 9,
                                "y": 49,
                                "c": 0
                            },
                            {
                                "x": 9,
                                "y": 25,
                                "c": 1
                            }
                        ]
                    }
                ],
                "scales": [
                    {
                        "name": "x",
                        "type": "point",
                        "range": "width",
                        "domain": {
                            "data": "table",
                            "field": "x"
                        }
                    },
                    {
                        "name": "y",
                        "type": "linear",
                        "range": "height",
                        "nice": true,
                        "zero": true,
                        "domain": {
                            "data": "table",
                            "field": "y"
                        }
                    },
                    {
                        "name": "color",
                        "type": "ordinal",
                        "range": "category",
                        "domain": {
                            "data": "table",
                            "field": "c"
                        }
                    }
                ],
                "axes": [
                    {
                        "orient": "bottom",
                        "scale": "x"
                    },
                    {
                        "orient": "left",
                        "scale": "y"
                    }
                ],
                "marks": [
                    {
                        "type": "group",
                        "from": {
                            "facet": {
                                "name": "series",
                                "data": "table",
                                "groupby": "c"
                            }
                        },
                        "marks": [
                            {
                                "type": "line",
                                "from": {
                                    "data": "series"
                                },
                                "encode": {
                                    "enter": {
                                        "x": {
                                            "scale": "x",
                                            "field": "x"
                                        },
                                        "y": {
                                            "scale": "y",
                                            "field": "y"
                                        },
                                        "stroke": {
                                            "scale": "color",
                                            "field": "c"
                                        },
                                        "strokeWidth": {
                                            "value": 2
                                        }
                                    },
                                    "update": {
                                        "interpolate": {
                                            "signal": "interpolate"
                                        },
                                        "fillOpacity": {
                                            "value": 1
                                        }
                                    },
                                    "hover": {
                                        "fillOpacity": {
                                            "value": 0.5
                                        }
                                    }
                                }
                            }
                        ]
                    }
                ]
            }
          },
          "metadata": {},
          "output_type": "display_data"
        }
      ],
      "source": [
        "# render application/vnd.vega.v5+json \n"
      ]
    },
    {
      "cell_type": "code",
      "execution_count": 1,
      "metadata": {},
      "outputs": [
        {
          "data": {
            "text/latex": [
                "$$a^2 + y = 3$$"
            ]
          },
          "metadata": {},
          "output_type": "display_data"
        }
      ],
      "source": [
        "# render latex \n"
      ]
    }
  ],
  "metadata": {
    "kernelspec": {
      "name": "python3",
      "display_name": "Python 3"
    },
    "language_info": {
      "name": "python",
      "version": "3.7.3",
      "mimetype": "text/x-python",
      "codemirror_mode": {
        "name": "ipython",
        "version": 3
      },
      "pygments_lexer": "ipython3",
      "nbconvert_exporter": "python",
      "file_extension": ".py"
    },
    "nteract": {
      "version": "0.15.0"
    }
  },
  "nbformat": 4,
  "nbformat_minor": 2
}