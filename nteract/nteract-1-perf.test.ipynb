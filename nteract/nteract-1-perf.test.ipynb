{
    "cells": [
        {
            "source": [
                "# Interactive outputs rendered by nteract"
            ],
            "metadata": {
                "language_info": {
                    "name": "python"
                }
            },
            "cell_type": "markdown"
        },
        {
            "cell_type": "code",
            "execution_count": 1,
            "metadata": {},
            "outputs": [
                {
                "data": {
                    "application/vnd.plotly.v1+json": {
                        "data": [
                            { "x": [1999, 2000, 2001, 2002], "y": [10, 15, 13, 17], "type": "scatter" },
                            { "x": [1999, 2000, 2001, 2002], "y": [16, 5, 11, 9], "type": "scatter" }
                        ],
                        "layout": {
                            "title": "Super Stuff",
                            "xaxis": { "title": "Year", "showgrid": false, "zeroline": false },
                            "yaxis": { "title": "Percent", "showline": false },
                            "height": "100px"
                        }
                    }
                },
                "metadata": {},
                "output_type": "display_data"
                }
            ],
            "source": [
                "# render application/vnd.plotly.v1+json \n"
            ]
        }
    ],
    "metadata": {
        "kernelspec": {
            "name": "python3",
            "display_name": "Python 3"
        },
        "language_info": {
            "name": "python",
            "version": "3.7.3",
            "mimetype": "text/x-python",
            "codemirror_mode": {
                "name": "ipython",
                "version": 3
            },
            "pygments_lexer": "ipython3",
            "nbconvert_exporter": "python",
            "file_extension": ".py"
        },
        "nteract": {
            "version": "0.15.0"
        }
    },
    "nbformat": 4,
    "nbformat_minor": 2
}