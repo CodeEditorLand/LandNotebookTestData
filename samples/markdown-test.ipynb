{
    "cells": [
        {
            "source": [
                "# header"
            ],
            "metadata": {
                "language_info": {
                    "name": "python"
                }
            },
            "cell_type": "markdown"
        },
        {
            "source": [
                "## heading 2"
            ],
            "metadata": {
                "language_info": {
                    "name": "python"
                }
            },
            "cell_type": "markdown"
        },
        {
            "source": [
                "### heading 3"
            ],
            "metadata": {
                "language_info": {
                    "name": "python"
                }
            },
            "cell_type": "markdown"
        },
        {
            "source": [
                "#### heading 4"
            ],
            "metadata": {
                "language_info": {
                    "name": "python"
                }
            },
            "cell_type": "markdown"
        },
        {
            "source": [
                "##### heading 5"
            ],
            "metadata": {
                "language_info": {
                    "name": "python"
                }
            },
            "cell_type": "markdown"
        },
        {
            "source": [
                "###### heading 6"
            ],
            "metadata": {
                "language_info": {
                    "name": "python"
                }
            },
            "cell_type": "markdown"
        },
        {
            "source": [
                "Regular paragraph text"
            ],
            "metadata": {
                "language_info": {
                    "name": "python"
                }
            },
            "cell_type": "markdown"
        },
        {
            "source": [
                "_Emphasized text_\n",
                "\n",
                "~~Strikethrough text~~\n",
                "\n",
                "__Strong text__\n",
                "\n",
                "___Strong emphasized text___\n",
                "\n",
                "[Named Link](http://www.google.fr/ \"Named link title\") and http://www.google.fr/"
            ],
            "metadata": {
                "language_info": {
                    "name": "python"
                }
            },
            "cell_type": "markdown"
        },
        {
            "source": [
                "## Large Heading\n",
                "\n",
                "With a combination of a paragraph text. Lorem ipsum dolor sit amet, consectetur adipiscing elit. Curabitur sit amet neque molestie, fringilla massa nec, hendrerit nibh. Morbi dictum elementum massa, vel lobortis sem sagittis eu. \n",
                "\n",
                "Lorem ipsum dolor sit amet, consectetur adipiscing elit. Curabitur sit amet neque molestie, fringilla massa nec, hendrerit nibh. Morbi dictum elementum massa, vel lobortis sem sagittis eu. Lorem ipsum dolor sit amet, consectetur adipiscing elit. Curabitur sit amet neque molestie, fringilla massa nec, hendrerit nibh. Morbi dictum elementum massa, vel lobortis sem sagittis eu. Lorem ipsum dolor sit amet, consectetur adipiscing elit. Curabitur sit amet neque molestie, fringilla massa nec, hendrerit nibh. Morbi dictum elementum massa, vel lobortis sem sagittis eu. "
            ],
            "metadata": {
                "language_info": {
                    "name": "python"
                }
            },
            "cell_type": "markdown"
        },
        {
            "source": [
                "- - - -"
            ],
            "metadata": {
                "language_info": {
                    "name": "python"
                }
            },
            "cell_type": "markdown"
        },
        {
            "source": [
                "First Header  | Second Header\n",
                "------------- | -------------\n",
                "Content Cell  | Content Cell\n",
                "Content Cell  | Content Cell"
            ],
            "metadata": {
                "language_info": {
                    "name": "python"
                }
            },
            "cell_type": "markdown"
        },
        {
            "source": [
                "* Bullet list\n",
                "    * Nested bullet\n",
                "        * Sub-nested bullet etc\n",
                "* Bullet list item 2"
            ],
            "metadata": {
                "language_info": {
                    "name": "python"
                }
            },
            "cell_type": "markdown"
        },
        {
            "source": [
                "1. A numbered list\n",
                "    1. A nested numbered list\n",
                "    2. Which is numbered\n",
                "2. Which is numbered"
            ],
            "metadata": {
                "language_info": {
                    "name": "python"
                }
            },
            "cell_type": "markdown"
        },
        {
            "source": [
                "- [ ] An uncompleted task\n",
                "- [x] A completed task"
            ],
            "metadata": {
                "language_info": {
                    "name": "python"
                }
            },
            "cell_type": "markdown"
        },
        {
            "source": [
                "> Blockquote"
            ],
            "metadata": {
                "language_info": {
                    "name": "python"
                }
            },
            "cell_type": "markdown"
        },
        {
            "source": [
                "> Blockquote\n",
                ">> Nested Blockquote"
            ],
            "metadata": {
                "language_info": {
                    "name": "python"
                }
            },
            "cell_type": "markdown"
        },
        {
            "source": [
                "> This is a blockquote.\n",
                "> \n",
                "> This is the second paragraph in the blockquote.\n",
                ">\n",
                "> ## This is an H2 in a blockquote"
            ],
            "metadata": {
                "language_info": {
                    "name": "python"
                }
            },
            "cell_type": "markdown"
        },
        {
            "source": [
                "![picture alt](http://via.placeholder.com/200x150 \"Title is optional\")"
            ],
            "metadata": {
                "language_info": {
                    "name": "python"
                }
            },
            "cell_type": "markdown"
        },
        {
            "source": [
                "<details>\n",
                "    <summary>Title 1</summary>\n",
                "    <p>Content 1 Content 1 Content 1 Content 1 Content 1</p>\n",
                "</details>"
            ],
            "metadata": {
                "language_info": {
                    "name": "python"
                }
            },
            "cell_type": "markdown"
        },
        {
            "source": [
                "<kbd>⌘F</kbd>"
            ],
            "metadata": {
                "language_info": {
                    "name": "python"
                }
            },
            "cell_type": "markdown"
        }
    ]
}