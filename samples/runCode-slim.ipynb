{
	"metadata": {
		"kernelspec": {
			"name": "python3",
			"display_name": "Python 3"
		},
		"language_info": {
			"name": "python",
			"version": "3.7.3",
			"mimetype": "text/x-python",
			"codemirror_mode": {
				"name": "ipython",
				"version": 3
			},
			"pygments_lexer": "ipython3",
			"nbconvert_exporter": "python",
			"file_extension": ".py"
		}
	},
	"nbformat_minor": 2,
	"nbformat": 4,
	"cells": [
		{
			"cell_type": "markdown",
			"metadata": {
				"azdata_cell_guid": "4a78104e-e6dd-438e-833e-a3ccad0f3618"
			},
			"source": [
				"# Running Code"
			]
		},
		{
			"cell_type": "markdown",
			"metadata": {
				"azdata_cell_guid": "4a78104e-e6dd-438e-833e-a3ccad0f3617"
			},
			"source": [
				"# Running Code 2\n",
				"body"
			]
		}
	]
}