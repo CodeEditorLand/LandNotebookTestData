{
    "cells": [
        {
            "source": [
                "# Interactive outputs rendered by nteract"
            ],
            "metadata": {
                "language_info": {
                    "name": "python"
                }
            },
            "cell_type": "markdown"
        },
        {
            "source": [
                "import vega from VegaLite\n",
                "VegaLite({\n",
                "    \"$schema\": \"https://vega.github.io/schema/vega/v5.json\",\n",
                "    \"width\": 500,\n",
                "    \"height\": 200,\n",
                "    \"padding\": 5,\n",
                "    \"signals\": [\n",
                "        {\n",
                "            \"name\": \"interpolate\",\n",
                "            \"value\": \"linear\",\n",
                "            \"bind\": {\n",
                "                \"input\": \"select\",\n",
                "                \"options\": [ \"basis\", \"cardinal\", \"catmull-rom\", \"linear\", \"monotone\", \"natural\", \"step\", \"step-after\", \"step-before\" ]\n",
                "            }\n",
                "        }\n",
                "    ],\n",
                "    \"data\": [\n",
                "        {\n",
                "            \"name\": \"table\",\n",
                "            \"values\": [\n",
                "                { \"x\": 0, \"y\": 28, \"c\": 0 },\n",
                "                { \"x\": 0, \"y\": 20, \"c\": 1 },\n",
                "                { \"x\": 1, \"y\": 43, \"c\": 0 },\n",
                "                { \"x\": 1, \"y\": 35, \"c\": 1 },\n",
                "                { \"x\": 2, \"y\": 81, \"c\": 0 },\n",
                "                { \"x\": 2, \"y\": 10, \"c\": 1 },\n",
                "                { \"x\": 3, \"y\": 19, \"c\": 0 },\n",
                "                { \"x\": 3, \"y\": 15, \"c\": 1 }\n",
                "            ]\n",
                "        }\n",
                "    ]\n",
                "})\n",
                ""
            ],
            "metadata": {
                "language_info": {
                    "name": "python"
                }
            },
            "cell_type": "code",
            "outputs": [
                {
                    "data": {
                        "application/vnd.vega.v5+json": {
                            "$schema": "https://vega.github.io/schema/vega/v5.json",
                            "width": 500,
                            "height": 200,
                            "padding": 5,
                            "signals": [
                                {
                                    "name": "interpolate",
                                    "value": "linear",
                                    "bind": {
                                        "input": "select",
                                        "options": [
                                            "basis",
                                            "cardinal",
                                            "catmull-rom",
                                            "linear",
                                            "monotone",
                                            "natural",
                                            "step",
                                            "step-after",
                                            "step-before"
                                        ]
                                    }
                                }
                            ],
                            "data": [
                                {
                                    "name": "table",
                                    "values": [
                                        {
                                            "x": 0,
                                            "y": 28,
                                            "c": 0
                                        },
                                        {
                                            "x": 0,
                                            "y": 20,
                                            "c": 1
                                        },
                                        {
                                            "x": 1,
                                            "y": 43,
                                            "c": 0
                                        },
                                        {
                                            "x": 1,
                                            "y": 35,
                                            "c": 1
                                        },
                                        {
                                            "x": 2,
                                            "y": 81,
                                            "c": 0
                                        },
                                        {
                                            "x": 2,
                                            "y": 10,
                                            "c": 1
                                        },
                                        {
                                            "x": 3,
                                            "y": 19,
                                            "c": 0
                                        },
                                        {
                                            "x": 3,
                                            "y": 15,
                                            "c": 1
                                        },
                                        {
                                            "x": 4,
                                            "y": 52,
                                            "c": 0
                                        },
                                        {
                                            "x": 4,
                                            "y": 48,
                                            "c": 1
                                        },
                                        {
                                            "x": 5,
                                            "y": 24,
                                            "c": 0
                                        },
                                        {
                                            "x": 5,
                                            "y": 28,
                                            "c": 1
                                        },
                                        {
                                            "x": 6,
                                            "y": 87,
                                            "c": 0
                                        },
                                        {
                                            "x": 6,
                                            "y": 66,
                                            "c": 1
                                        },
                                        {
                                            "x": 7,
                                            "y": 17,
                                            "c": 0
                                        },
                                        {
                                            "x": 7,
                                            "y": 27,
                                            "c": 1
                                        },
                                        {
                                            "x": 8,
                                            "y": 68,
                                            "c": 0
                                        },
                                        {
                                            "x": 8,
                                            "y": 16,
                                            "c": 1
                                        },
                                        {
                                            "x": 9,
                                            "y": 49,
                                            "c": 0
                                        },
                                        {
                                            "x": 9,
                                            "y": 25,
                                            "c": 1
                                        }
                                    ]
                                }
                            ],
                            "scales": [
                                {
                                    "name": "x",
                                    "type": "point",
                                    "range": "width",
                                    "domain": {
                                        "data": "table",
                                        "field": "x"
                                    }
                                },
                                {
                                    "name": "y",
                                    "type": "linear",
                                    "range": "height",
                                    "nice": true,
                                    "zero": true,
                                    "domain": {
                                        "data": "table",
                                        "field": "y"
                                    }
                                },
                                {
                                    "name": "color",
                                    "type": "ordinal",
                                    "range": "category",
                                    "domain": {
                                        "data": "table",
                                        "field": "c"
                                    }
                                }
                            ],
                            "axes": [
                                {
                                    "orient": "bottom",
                                    "scale": "x"
                                },
                                {
                                    "orient": "left",
                                    "scale": "y"
                                }
                            ],
                            "marks": [
                                {
                                    "type": "group",
                                    "from": {
                                        "facet": {
                                            "name": "series",
                                            "data": "table",
                                            "groupby": "c"
                                        }
                                    },
                                    "marks": [
                                        {
                                            "type": "line",
                                            "from": {
                                                "data": "series"
                                            },
                                            "encode": {
                                                "enter": {
                                                    "x": {
                                                        "scale": "x",
                                                        "field": "x"
                                                    },
                                                    "y": {
                                                        "scale": "y",
                                                        "field": "y"
                                                    },
                                                    "stroke": {
                                                        "scale": "color",
                                                        "field": "c"
                                                    },
                                                    "strokeWidth": {
                                                        "value": 2
                                                    }
                                                },
                                                "update": {
                                                    "interpolate": {
                                                        "signal": "interpolate"
                                                    },
                                                    "fillOpacity": {
                                                        "value": 1
                                                    }
                                                },
                                                "hover": {
                                                    "fillOpacity": {
                                                        "value": 0.5
                                                    }
                                                }
                                            }
                                        }
                                    ]
                                }
                            ]
                        },
                        "application/json": {
                            "$schema": "https://vega.github.io/schema/vega/v5.json",
                            "width": 500,
                            "height": 200,
                            "padding": 5,
                            "signals": [
                                {
                                    "name": "interpolate",
                                    "value": "linear",
                                    "bind": {
                                        "input": "select",
                                        "options": [
                                            "basis",
                                            "cardinal",
                                            "catmull-rom",
                                            "linear",
                                            "monotone",
                                            "natural",
                                            "step",
                                            "step-after",
                                            "step-before"
                                        ]
                                    }
                                }
                            ],
                            "data": [
                                {
                                    "name": "table",
                                    "values": [
                                        {
                                            "x": 0,
                                            "y": 28,
                                            "c": 0
                                        },
                                        {
                                            "x": 0,
                                            "y": 20,
                                            "c": 1
                                        },
                                        {
                                            "x": 1,
                                            "y": 43,
                                            "c": 0
                                        },
                                        {
                                            "x": 1,
                                            "y": 35,
                                            "c": 1
                                        },
                                        {
                                            "x": 2,
                                            "y": 81,
                                            "c": 0
                                        },
                                        {
                                            "x": 2,
                                            "y": 10,
                                            "c": 1
                                        },
                                        {
                                            "x": 3,
                                            "y": 19,
                                            "c": 0
                                        },
                                        {
                                            "x": 3,
                                            "y": 15,
                                            "c": 1
                                        },
                                        {
                                            "x": 4,
                                            "y": 52,
                                            "c": 0
                                        },
                                        {
                                            "x": 4,
                                            "y": 48,
                                            "c": 1
                                        },
                                        {
                                            "x": 5,
                                            "y": 24,
                                            "c": 0
                                        },
                                        {
                                            "x": 5,
                                            "y": 28,
                                            "c": 1
                                        },
                                        {
                                            "x": 6,
                                            "y": 87,
                                            "c": 0
                                        },
                                        {
                                            "x": 6,
                                            "y": 66,
                                            "c": 1
                                        },
                                        {
                                            "x": 7,
                                            "y": 17,
                                            "c": 0
                                        },
                                        {
                                            "x": 7,
                                            "y": 27,
                                            "c": 1
                                        },
                                        {
                                            "x": 8,
                                            "y": 68,
                                            "c": 0
                                        },
                                        {
                                            "x": 8,
                                            "y": 16,
                                            "c": 1
                                        },
                                        {
                                            "x": 9,
                                            "y": 49,
                                            "c": 0
                                        },
                                        {
                                            "x": 9,
                                            "y": 25,
                                            "c": 1
                                        }
                                    ]
                                }
                            ],
                            "scales": [
                                {
                                    "name": "x",
                                    "type": "point",
                                    "range": "width",
                                    "domain": {
                                        "data": "table",
                                        "field": "x"
                                    }
                                },
                                {
                                    "name": "y",
                                    "type": "linear",
                                    "range": "height",
                                    "nice": true,
                                    "zero": true,
                                    "domain": {
                                        "data": "table",
                                        "field": "y"
                                    }
                                },
                                {
                                    "name": "color",
                                    "type": "ordinal",
                                    "range": "category",
                                    "domain": {
                                        "data": "table",
                                        "field": "c"
                                    }
                                }
                            ],
                            "axes": [
                                {
                                    "orient": "bottom",
                                    "scale": "x"
                                },
                                {
                                    "orient": "left",
                                    "scale": "y"
                                }
                            ],
                            "marks": [
                                {
                                    "type": "group",
                                    "from": {
                                        "facet": {
                                            "name": "series",
                                            "data": "table",
                                            "groupby": "c"
                                        }
                                    },
                                    "marks": [
                                        {
                                            "type": "line",
                                            "from": {
                                                "data": "series"
                                            },
                                            "encode": {
                                                "enter": {
                                                    "x": {
                                                        "scale": "x",
                                                        "field": "x"
                                                    },
                                                    "y": {
                                                        "scale": "y",
                                                        "field": "y"
                                                    },
                                                    "stroke": {
                                                        "scale": "color",
                                                        "field": "c"
                                                    },
                                                    "strokeWidth": {
                                                        "value": 2
                                                    }
                                                },
                                                "update": {
                                                    "interpolate": {
                                                        "signal": "interpolate"
                                                    },
                                                    "fillOpacity": {
                                                        "value": 1
                                                    }
                                                },
                                                "hover": {
                                                    "fillOpacity": {
                                                        "value": 0.5
                                                    }
                                                }
                                            }
                                        }
                                    ]
                                }
                            ]
                        },
                        "text/plain": [
                            "{",
                            "    \"$schema\": \"https://vega.github.io/schema/vega/v5.json\",\n",
                            "    \"width\": 500,\n",
                            "    \"height\": 200,\n",
                            "    \"padding\": 5,\n",
                            "    \"signals\": [\n",
                            "        {\n",
                            "            \"name\": \"interpolate\",\n",
                            "            \"value\": \"linear\",\n",
                            "            \"bind\": {\n",
                            "                \"input\": \"select\",\n",
                            "                \"options\": [ \"basis\", \"cardinal\", \"catmull-rom\", \"linear\", \"monotone\", \"natural\", \"step\", \"step-after\", \"step-before\" ]\n",
                            "            }\n",
                            "        }\n",
                            "    ],\n",
                            "    \"data\": [\n",
                            "        {\n",
                            "            \"name\": \"table\",\n",
                            "            \"values\": [\n",
                            "                { \"x\": 0, \"y\": 28, \"c\": 0 },\n",
                            "                { \"x\": 0, \"y\": 20, \"c\": 1 },\n",
                            "                { \"x\": 1, \"y\": 43, \"c\": 0 },\n",
                            "                { \"x\": 1, \"y\": 35, \"c\": 1 },\n",
                            "                { \"x\": 2, \"y\": 81, \"c\": 0 },\n",
                            "                { \"x\": 2, \"y\": 10, \"c\": 1 },\n",
                            "                { \"x\": 3, \"y\": 19, \"c\": 0 },\n",
                            "                { \"x\": 3, \"y\": 15, \"c\": 1 }\n",
                            "            ]\n",
                            "        }\n",
                            "    ]\n",
                            "}"
                        ]
                    },
                    "metadata": {},
                    "output_type": "display_data"
                }
            ]
        }
    ],
    "metadata": {
        "kernelspec": {
            "name": "python3",
            "display_name": "Python 3"
        },
        "language_info": {
            "name": "python",
            "version": "3.7.3",
            "mimetype": "text/x-python",
            "codemirror_mode": {
                "name": "ipython",
                "version": 3
            },
            "pygments_lexer": "ipython3",
            "nbconvert_exporter": "python",
            "file_extension": ".py"
        },
        "nteract": {
            "version": "0.15.0"
        }
    },
    "nbformat": 4,
    "nbformat_minor": 2
}