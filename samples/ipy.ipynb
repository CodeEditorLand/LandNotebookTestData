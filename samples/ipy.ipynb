{
 "cells": [
  {
   "cell_type": "code",
   "execution_count": 1,
   "metadata": {},
   "outputs": [],
   "source": [
    "from __future__ import print_function\n",
    "from ipywidgets import interact, interactive, fixed, interact_manual\n",
    "import ipywidgets as widgets"
   ]
  },
  {
   "cell_type": "code",
   "execution_count": 2,
   "metadata": {},
   "outputs": [],
   "source": [
    "def f(x):\n",
    "    return x + 5"
   ]
  },
  {
   "cell_type": "code",
   "execution_count": 3,
   "metadata": {},
   "outputs": [
    {
     "data": {
      "text/plain": "15"
     },
     "metadata": {},
     "output_type": "display_data"
    }
   ],
   "source": [
    "interact(f, x=10);"
   ]
  },
  {
   "cell_type": "code",
   "execution_count": 4,
   "metadata": {},
   "outputs": [
    {
     "data": {
      "text/plain": "6"
     },
     "metadata": {},
     "output_type": "display_data"
    }
   ],
   "source": [
    "interact(f, x=True);"
   ]
  },
  {
   "cell_type": "code",
   "execution_count": 5,
   "metadata": {},
   "outputs": [
    {
     "data": {
      "text/plain": "(True, 1.0)"
     },
     "metadata": {},
     "output_type": "display_data"
    }
   ],
   "source": [
    "@interact(x=True, y=1.0)\n",
    "def g(x, y):\n",
    "    return (x, y)"
   ]
  },
  {
   "cell_type": "code",
   "execution_count": null,
   "metadata": {},
   "outputs": [],
   "source": []
  }
 ],
 "metadata": {
  "kernelspec": {
   "display_name": "Python 3.7.5 64-bit",
   "language": "python",
   "name": "python37564bitd18ce8d8790343a4b8c5e069617f7acc"
  },
  "language_info": {
   "codemirror_mode": {
    "name": "ipython",
    "version": 3
   },
   "file_extension": ".py",
   "mimetype": "text/x-python",
   "name": "python",
   "nbconvert_exporter": "python",
   "pygments_lexer": "ipython3",
   "version": "3.7.5-final"
  },
  "widgets": {
   "application/vnd.jupyter.widget-state+json": {
    "state": {
     "02ffabb5833d40bca3cb614fe45fe8ac": {
      "model_module": "@jupyter-widgets/output",
      "model_module_version": "1.0.0",
      "model_name": "OutputModel",
      "state": {
       "layout": "IPY_MODEL_c188ec0b21b34736ba83d0237e306207",
       "outputs": [
        {
         "data": {
          "text/plain": "21"
         },
         "metadata": {},
         "output_type": "display_data"
        }
       ]
      }
     },
     "0d81f8660ec040eda631b3cfa38b938f": {
      "model_module": "@jupyter-widgets/controls",
      "model_module_version": "1.5.0",
      "model_name": "DescriptionStyleModel",
      "state": {
       "description_width": ""
      }
     },
     "0e4a25d3f9fb4b8f9c657f8a5a1f3d50": {
      "model_module": "@jupyter-widgets/controls",
      "model_module_version": "1.5.0",
      "model_name": "SliderStyleModel",
      "state": {
       "description_width": ""
      }
     },
     "160f7abc24f34071bdb6bb57cbc693b0": {
      "model_module": "@jupyter-widgets/controls",
      "model_module_version": "1.5.0",
      "model_name": "IntSliderModel",
      "state": {
       "description": "x",
       "layout": "IPY_MODEL_9963ac9c96394d978966af3cd194a310",
       "max": 30,
       "min": -10,
       "style": "IPY_MODEL_0e4a25d3f9fb4b8f9c657f8a5a1f3d50",
       "value": 16
      }
     },
     "1ebc766d35f54d23aa2604169e535f60": {
      "model_module": "@jupyter-widgets/base",
      "model_module_version": "1.2.0",
      "model_name": "LayoutModel",
      "state": {}
     },
     "23789e398d784babaa6d0967a913ba17": {
      "model_module": "@jupyter-widgets/base",
      "model_module_version": "1.2.0",
      "model_name": "LayoutModel",
      "state": {}
     },
     "26c0c61ecfa3415e88fbd84ade6f6439": {
      "model_module": "@jupyter-widgets/controls",
      "model_module_version": "1.5.0",
      "model_name": "CheckboxModel",
      "state": {
       "description": "x",
       "disabled": false,
       "layout": "IPY_MODEL_9338f98a7fe24041ac49467d89b9b131",
       "style": "IPY_MODEL_0d81f8660ec040eda631b3cfa38b938f",
       "value": true
      }
     },
     "2c2254183a104ca0982bbff2030a5c83": {
      "model_module": "@jupyter-widgets/controls",
      "model_module_version": "1.5.0",
      "model_name": "VBoxModel",
      "state": {
       "_dom_classes": [
        "widget-interact"
       ],
       "children": [
        "IPY_MODEL_382a49b323db40ec8bb4aec7c6225615",
        "IPY_MODEL_b87ecab3f87748f5a7a6070814948695",
        "IPY_MODEL_afbf62b9f0fc4c1391a070412e769d7a"
       ],
       "layout": "IPY_MODEL_1ebc766d35f54d23aa2604169e535f60"
      }
     },
     "2eb0b26830704839b2bc39064980cfb9": {
      "model_module": "@jupyter-widgets/controls",
      "model_module_version": "1.5.0",
      "model_name": "VBoxModel",
      "state": {
       "_dom_classes": [
        "widget-interact"
       ],
       "children": [
        "IPY_MODEL_26c0c61ecfa3415e88fbd84ade6f6439",
        "IPY_MODEL_c907162c0f3b459da91082e2c023b9d6"
       ],
       "layout": "IPY_MODEL_d1353c2f07c241f487229b5a5bc4f721"
      }
     },
     "382a49b323db40ec8bb4aec7c6225615": {
      "model_module": "@jupyter-widgets/controls",
      "model_module_version": "1.5.0",
      "model_name": "CheckboxModel",
      "state": {
       "description": "x",
       "disabled": false,
       "layout": "IPY_MODEL_5507a8d4f62647428b42f5aa0f8d675d",
       "style": "IPY_MODEL_4ca689a3bf8c4159a6b70281a061c19d",
       "value": true
      }
     },
     "4ca689a3bf8c4159a6b70281a061c19d": {
      "model_module": "@jupyter-widgets/controls",
      "model_module_version": "1.5.0",
      "model_name": "DescriptionStyleModel",
      "state": {
       "description_width": ""
      }
     },
     "5507a8d4f62647428b42f5aa0f8d675d": {
      "model_module": "@jupyter-widgets/base",
      "model_module_version": "1.2.0",
      "model_name": "LayoutModel",
      "state": {}
     },
     "629dce498d76472fbcc0d20e35243e32": {
      "model_module": "@jupyter-widgets/base",
      "model_module_version": "1.2.0",
      "model_name": "LayoutModel",
      "state": {}
     },
     "9338f98a7fe24041ac49467d89b9b131": {
      "model_module": "@jupyter-widgets/base",
      "model_module_version": "1.2.0",
      "model_name": "LayoutModel",
      "state": {}
     },
     "94b2834282ff468c871d1d86e16cc436": {
      "model_module": "@jupyter-widgets/base",
      "model_module_version": "1.2.0",
      "model_name": "LayoutModel",
      "state": {}
     },
     "9963ac9c96394d978966af3cd194a310": {
      "model_module": "@jupyter-widgets/base",
      "model_module_version": "1.2.0",
      "model_name": "LayoutModel",
      "state": {}
     },
     "a56ad1e9537a4880860f32333b5f463b": {
      "model_module": "@jupyter-widgets/controls",
      "model_module_version": "1.5.0",
      "model_name": "SliderStyleModel",
      "state": {
       "description_width": ""
      }
     },
     "afbf62b9f0fc4c1391a070412e769d7a": {
      "model_module": "@jupyter-widgets/output",
      "model_module_version": "1.0.0",
      "model_name": "OutputModel",
      "state": {
       "layout": "IPY_MODEL_23789e398d784babaa6d0967a913ba17",
       "outputs": [
        {
         "data": {
          "text/plain": "(True, 1.0)"
         },
         "metadata": {},
         "output_type": "display_data"
        }
       ]
      }
     },
     "b87ecab3f87748f5a7a6070814948695": {
      "model_module": "@jupyter-widgets/controls",
      "model_module_version": "1.5.0",
      "model_name": "FloatSliderModel",
      "state": {
       "description": "y",
       "layout": "IPY_MODEL_94b2834282ff468c871d1d86e16cc436",
       "max": 3,
       "min": -1,
       "step": 0.1,
       "style": "IPY_MODEL_a56ad1e9537a4880860f32333b5f463b",
       "value": 1
      }
     },
     "c188ec0b21b34736ba83d0237e306207": {
      "model_module": "@jupyter-widgets/base",
      "model_module_version": "1.2.0",
      "model_name": "LayoutModel",
      "state": {}
     },
     "c907162c0f3b459da91082e2c023b9d6": {
      "model_module": "@jupyter-widgets/output",
      "model_module_version": "1.0.0",
      "model_name": "OutputModel",
      "state": {
       "layout": "IPY_MODEL_e2c3adbdc2cc40d9b7e544e334f5df5e",
       "outputs": [
        {
         "data": {
          "text/plain": "6"
         },
         "metadata": {},
         "output_type": "display_data"
        }
       ]
      }
     },
     "d1353c2f07c241f487229b5a5bc4f721": {
      "model_module": "@jupyter-widgets/base",
      "model_module_version": "1.2.0",
      "model_name": "LayoutModel",
      "state": {}
     },
     "d81bb24987974877a497a521fe86de8f": {
      "model_module": "@jupyter-widgets/controls",
      "model_module_version": "1.5.0",
      "model_name": "VBoxModel",
      "state": {
       "_dom_classes": [
        "widget-interact"
       ],
       "children": [
        "IPY_MODEL_160f7abc24f34071bdb6bb57cbc693b0",
        "IPY_MODEL_02ffabb5833d40bca3cb614fe45fe8ac"
       ],
       "layout": "IPY_MODEL_629dce498d76472fbcc0d20e35243e32"
      }
     },
     "e2c3adbdc2cc40d9b7e544e334f5df5e": {
      "model_module": "@jupyter-widgets/base",
      "model_module_version": "1.2.0",
      "model_name": "LayoutModel",
      "state": {}
     }
    },
    "version_major": 2,
    "version_minor": 0
   }
  }
 },
 "nbformat": 4,
 "nbformat_minor": 4
}