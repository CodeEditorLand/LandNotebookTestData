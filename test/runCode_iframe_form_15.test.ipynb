{
  "cells": [
    {
      "cell_type": "markdown",
      "metadata": {
        "azdata_cell_guid": "2e1cde7c-c21c-4eed-8fed-6d1fc3e6625d"
      },
      "source": [
        "# Running Code"
      ]
    },
    {
      "cell_type": "markdown",
      "metadata": {
        "azdata_cell_guid": "a46c018f-4adc-4e63-a13c-688394fcc27f"
      },
      "source": [
        "*First* and foremost, the Jupyter Notebook is an interactive environment for writing and running code. The notebook is capable of running code in a wide range of languages. However, each notebook is associated with a single kernel.  This notebook is associated with the IPython kernel, therefore runs Python code.\n"
      ]
    },
    {
      "cell_type": "markdown",
      "metadata": {
        "azdata_cell_guid": "40787b35-53fe-40e4-ac10-60c008cf61f0"
      },
      "source": [
        "## Code cells allow you to enter and run code"
      ]
    },
    {
      "cell_type": "code",
      "execution_count": 2,
      "metadata": {},
      "outputs": [
        {
          "data": {
            "text/html": [
              "\n",
              "        <iframe\n",
              "            width=\"700\"\n",
              "            height=\"600\"\n",
              "            src=\"https://s3.amazonaws.com/duhaime/blog/visualizations/isolation-forests.html\"\n",
              "            frameborder=\"0\"\n",
              "            allowfullscreen\n",
              "        ></iframe>\n",
              "        "
            ],
            "text/plain": [
              "<IPython.lib.display.IFrame at 0x11dee3e80>"
            ]
          },
          "execution_count": 2,
          "metadata": {},
          "output_type": "execute_result"
        }
      ],
      "source": [
        "from IPython.display import IFrame\n",
        "\n",
        "IFrame(src='https://s3.amazonaws.com/duhaime/blog/visualizations/isolation-forests.html', width=700, height=600)\n"
      ]
    },
    {
      "cell_type": "code",
      "execution_count": 2,
      "metadata": {},
      "outputs": [
        {
          "data": {
            "text/html": "\n<div style=\"background-color:gainsboro; border:solid black; width:300px; padding:20px;\">\nVariable Name: <input type=\"text\" id=\"var_name\" value=\"foo\"><br>\nVariable Value: <input type=\"text\" id=\"var_value\" value=\"bar\"><br>\n<button onclick=\"set_value()\">Set Value</button>\n</div>\n\n<script type=\"text/Javascript\">\n    window.set_value = function (){\n        document.getElementById('var_name').value = 'rebornix';\n    }\n</script>\n",
            "text/plain": "<IPython.core.display.HTML object>"
          },
          "execution_count": 2,
          "metadata": {},
          "output_type": "execute_result"
        }
      ],
      "source": [
        "from IPython.display import HTML\n",
        "\n",
        "input_form = \"\"\"\n",
        "<div style=\"background-color:gainsboro; border:solid black; width:300px; padding:20px;\">\n",
        "Variable Name: <input type=\"text\" id=\"var_name\" value=\"foo\"><br>\n",
        "Variable Value: <input type=\"text\" id=\"var_value\" value=\"bar\"><br>\n",
        "<button onclick=\"set_value()\">Set Value</button>\n",
        "</div>\n",
        "\"\"\"\n",
        "\n",
        "javascript = \"\"\"\n",
        "<script type=\"text/Javascript\">\n",
        "    window.set_value = function (){\n",
        "        document.getElementById('var_name').value = 'rebornix';\n",
        "    }\n",
        "</script>\n",
        "\"\"\"\n",
        "\n",
        "HTML(input_form + javascript)"
      ]
    },
    {
      "cell_type": "code",
      "execution_count": 10,
      "metadata": {
        "azdata_cell_guid": "b064ece1-cfef-4502-82d3-d4ba473a2ae5"
      },
      "outputs": [
        {
          "data": {
            "image/png": "[encoded data removed]",
            "text/plain": [
              "<Figure size 1440x720 with 1 Axes>"
            ]
          },
          "metadata": {
            "needs_background": "light"
          },
          "output_type": "display_data"
        }
      ],
      "source": [
        "%matplotlib inline\n",
        "from matplotlib import pyplot as plt\n",
        "import pandas as pd\n",
        "\n",
        "s = pd.Series([1,2,3], index=['a','b','c'])\n",
        "\n",
        "s.plot.bar(figsize=(20,10))\n",
        "plt.xlabel('Foo')\n",
        "plt.ylabel('Bar')\n",
        "plt.title(\"Hello World\");\n"
      ]
    },
    {
      "cell_type": "code",
      "execution_count": 7,
      "metadata": {
        "azdata_cell_guid": "1dd74f3c-996e-4e7c-abcc-6d57815807a5",
        "tags": []
      },
      "outputs": [],
      "source": [
        "b = input('type:'\n",
        "print(b)"
      ]
    },
    {
      "cell_type": "markdown",
      "metadata": {
        "azdata_cell_guid": "cfd851ac-e42e-4f5c-896b-98250ae87f53"
      },
      "source": [
        "There are two other keyboard shortcuts for running code:\n",
        "\n",
        "* `Alt-Enter` runs the current cell and inserts a new one below.\n",
        "* `Ctrl-Enter` run the current cell and enters command mode."
      ]
    },
    {
      "cell_type": "markdown",
      "metadata": {
        "azdata_cell_guid": "9993905c-84dc-44c8-9949-cc33211a8b0e"
      },
      "source": [
        "## Managing the Kernel"
      ]
    },
    {
      "cell_type": "markdown",
      "metadata": {
        "azdata_cell_guid": "9b1217ea-3a8b-4900-a234-c923cd4a8b05"
      },
      "source": [
        "Code is run in a separate process called the Kernel.  The Kernel can be interrupted or restarted.  Try running the following cell and then hit the <button class='btn btn-default btn-xs'><i class='icon-stop fa fa-stop'></i></button> button in the toolbar above."
      ]
    },
    {
      "cell_type": "code",
      "execution_count": 1,
      "metadata": {},
      "outputs": [
        {
          "data": {
            "text/html": [
              "<h1>Hello, world!</h1>"
            ],
            "text/plain": [
              "<IPython.core.display.HTML object>"
            ]
          },
          "metadata": {},
          "output_type": "display_data"
        }
      ],
      "source": [
        "from IPython.core.display import display, HTML\n",
        "display(HTML('<h1>Hello, world!</h1>'))\n"
      ]
    },
    {
      "cell_type": "markdown",
      "metadata": {
        "azdata_cell_guid": "dc808509-201d-4256-b291-63f28626762d"
      },
      "source": [
        "If the Kernel dies you will be prompted to restart it. Here we call the low-level system libc.time routine with the wrong argument via\n",
        "ctypes to segfault the Python interpreter:"
      ]
    },
    {
      "cell_type": "code",
      "execution_count": 5,
      "metadata": {
        "azdata_cell_guid": "c14bbb93-dc72-42b1-8374-e85b8394ec7a",
        "collapsed": false
      },
      "outputs": [],
      "source": [
        "from IPython.display import IFrame\n",
        "\n",
        "IFrame(src='https://s3.amazonaws.com/duhaime/blog/visualizations/isolation-forests.html', width=700, height=600)\n"
      ]
    },
    {
      "cell_type": "markdown",
      "metadata": {
        "azdata_cell_guid": "e593a337-f7df-4a90-a240-961f4bfa1e31"
      },
      "source": [
        "## Cell menu"
      ]
    },
    {
      "cell_type": "markdown",
      "metadata": {
        "azdata_cell_guid": "ca2c1577-349a-40a4-984f-8bb1f215186d"
      },
      "source": [
        "The \"Cell\" menu has a number of menu items for running code in different ways. These includes:\n",
        "\n",
        "* Run and Select Below\n",
        "* Run and Insert Below\n",
        "* Run All\n",
        "* Run All Above\n",
        "* Run All Below"
      ]
    },
    {
      "cell_type": "markdown",
      "metadata": {
        "azdata_cell_guid": "e08d1023-53aa-4af2-ad7c-1a93a6304371"
      },
      "source": [
        "## Restarting the kernels"
      ]
    },
    {
      "cell_type": "markdown",
      "metadata": {
        "azdata_cell_guid": "e0cc2830-129b-45d3-8a4e-f4fc4a20d7b2"
      },
      "source": [
        "The kernel maintains the state of a notebook's computations. You can reset this state by restarting the kernel. This is done by clicking on the <button class='btn btn-default btn-xs'><i class='fa fa-repeat icon-repeat'></i></button> in the toolbar above."
      ]
    },
    {
      "cell_type": "markdown",
      "metadata": {
        "azdata_cell_guid": "c00c237d-4bcf-4dbb-b106-f76de82cf78d"
      },
      "source": [
        "## sys.stdout and sys.stderr"
      ]
    },
    {
      "cell_type": "markdown",
      "metadata": {
        "azdata_cell_guid": "58bf4c9f-9ab4-47a4-a031-8e0b45bc5bcb"
      },
      "source": [
        "The stdout and stderr streams are displayed as text in the output area."
      ]
    },
    {
      "cell_type": "code",
      "execution_count": 6,
      "metadata": {
        "azdata_cell_guid": "c5dc6e63-4bf1-4d88-b80d-8fd0c2245fd4",
        "collapsed": false
      },
      "outputs": [
        {
          "name": "stdout",
          "output_type": "stream",
          "text": [
            "hi, stdout\n"
          ]
        }
      ],
      "source": [
        "print(\"hi, stdout\")"
      ]
    },
    {
      "cell_type": "code",
      "execution_count": 7,
      "metadata": {
        "azdata_cell_guid": "a665b9f1-d4d4-4531-a1a0-ba70b21eb35c",
        "collapsed": false
      },
      "outputs": [
        {
          "name": "stderr",
          "output_type": "stream",
          "text": [
            "hi, stderr\n"
          ]
        }
      ],
      "source": [
        "from __future__ import print_function\n",
        "print('hi, stderr', file=sys.stderr)"
      ]
    },
    {
      "cell_type": "markdown",
      "metadata": {
        "azdata_cell_guid": "11538ba4-17b9-44d1-a0d1-49855447e0ab"
      },
      "source": [
        "## Output is asynchronous"
      ]
    },
    {
      "cell_type": "markdown",
      "metadata": {
        "azdata_cell_guid": "a542fef4-e5db-4f7c-99c8-23a79cabffee"
      },
      "source": [
        "All output is displayed asynchronously as it is generated in the Kernel. If you execute the next cell, you will see the output one piece at a time, not all at the end."
      ]
    },
    {
      "cell_type": "code",
      "execution_count": 5,
      "metadata": {
        "azdata_cell_guid": "19a81733-1cce-4b5c-bdfd-cfbcbecc2ac7",
        "collapsed": false,
        "tags": []
      },
      "outputs": [
        {
          "name": "stdout",
          "output_type": "stream",
          "text": [
            "0\n"
          ]
        },
        {
          "name": "stdout",
          "output_type": "stream",
          "text": [
            "1\n"
          ]
        },
        {
          "name": "stdout",
          "output_type": "stream",
          "text": [
            "2\n"
          ]
        },
        {
          "name": "stdout",
          "output_type": "stream",
          "text": [
            "3\n"
          ]
        },
        {
          "name": "stdout",
          "output_type": "stream",
          "text": [
            "4\n"
          ]
        },
        {
          "name": "stdout",
          "output_type": "stream",
          "text": [
            "5\n"
          ]
        },
        {
          "name": "stdout",
          "output_type": "stream",
          "text": [
            "6\n"
          ]
        },
        {
          "name": "stdout",
          "output_type": "stream",
          "text": [
            "7\n"
          ]
        }
      ],
      "source": [
        "import time, sys\n",
        "for i in range(8):\n",
        "    print(i)\n",
        "    time.sleep(0.5)"
      ]
    },
    {
      "cell_type": "markdown",
      "metadata": {
        "azdata_cell_guid": "2f5cbb72-a727-4519-94f0-c230926342e9"
      },
      "source": [
        "## Large outputs"
      ]
    },
    {
      "cell_type": "markdown",
      "metadata": {
        "azdata_cell_guid": "db63d4bb-8c9d-4e30-9b2d-9c89bf30d305"
      },
      "source": [
        "To better handle large outputs, the output area can be collapsed. Run the following cell and then single- or double- click on the active area to the left of the output:"
      ]
    },
    {
      "cell_type": "code",
      "execution_count": 9,
      "metadata": {
        "azdata_cell_guid": "225315ec-1d54-4483-ac89-222d2070be02",
        "collapsed": false
      },
      "outputs": [
        {
          "name": "stdout",
          "output_type": "stream",
          "text": [
            "0\n",
            "1\n",
            "2\n",
            "3\n",
            "4\n",
            "5\n",
            "6\n",
            "7\n",
            "8\n",
            "9\n",
            "10\n",
            "11\n",
            "12\n",
            "13\n",
            "14\n",
            "15\n",
            "16\n",
            "17\n",
            "18\n",
            "19\n",
            "20\n",
            "21\n",
            "22\n",
            "23\n",
            "24\n",
            "25\n",
            "26\n",
            "27\n",
            "28\n",
            "29\n",
            "30\n",
            "31\n",
            "32\n",
            "33\n",
            "34\n",
            "35\n",
            "36\n",
            "37\n",
            "38\n",
            "39\n",
            "40\n",
            "41\n",
            "42\n",
            "43\n",
            "44\n",
            "45\n",
            "46\n",
            "47\n",
            "48\n",
            "49\n"
          ]
        }
      ],
      "source": [
        "for i in range(50):\n",
        "    print(i)"
      ]
    },
    {
      "cell_type": "markdown",
      "metadata": {
        "azdata_cell_guid": "2e1cde7c-c21c-4eed-8fed-6d1fc3e6625d"
      },
      "source": [
        "# Running Code"
      ]
    },
    {
      "cell_type": "markdown",
      "metadata": {
        "azdata_cell_guid": "a46c018f-4adc-4e63-a13c-688394fcc27f"
      },
      "source": [
        "*First* and foremost, the Jupyter Notebook is an interactive environment for writing and running code. The notebook is capable of running code in a wide range of languages. However, each notebook is associated with a single kernel.  This notebook is associated with the IPython kernel, therefore runs Python code.\n"
      ]
    },
    {
      "cell_type": "markdown",
      "metadata": {
        "azdata_cell_guid": "40787b35-53fe-40e4-ac10-60c008cf61f0"
      },
      "source": [
        "## Code cells allow you to enter and run code"
      ]
    },
    {
      "cell_type": "code",
      "execution_count": 2,
      "metadata": {},
      "outputs": [
        {
          "data": {
            "text/html": [
              "\n",
              "        <iframe\n",
              "            width=\"700\"\n",
              "            height=\"600\"\n",
              "            src=\"https://s3.amazonaws.com/duhaime/blog/visualizations/isolation-forests.html\"\n",
              "            frameborder=\"0\"\n",
              "            allowfullscreen\n",
              "        ></iframe>\n",
              "        "
            ],
            "text/plain": [
              "<IPython.lib.display.IFrame at 0x11dee3e80>"
            ]
          },
          "execution_count": 2,
          "metadata": {},
          "output_type": "execute_result"
        }
      ],
      "source": [
        "from IPython.display import IFrame\n",
        "\n",
        "IFrame(src='https://s3.amazonaws.com/duhaime/blog/visualizations/isolation-forests.html', width=700, height=600)\n"
      ]
    },
    {
      "cell_type": "code",
      "execution_count": 2,
      "metadata": {},
      "outputs": [
        {
          "data": {
            "text/html": "\n<div style=\"background-color:gainsboro; border:solid black; width:300px; padding:20px;\">\nVariable Name: <input type=\"text\" id=\"var_name\" value=\"foo\"><br>\nVariable Value: <input type=\"text\" id=\"var_value\" value=\"bar\"><br>\n<button onclick=\"set_value()\">Set Value</button>\n</div>\n\n<script type=\"text/Javascript\">\n    window.set_value = function (){\n        document.getElementById('var_name').value = 'rebornix';\n    }\n</script>\n",
            "text/plain": "<IPython.core.display.HTML object>"
          },
          "execution_count": 2,
          "metadata": {},
          "output_type": "execute_result"
        }
      ],
      "source": [
        "from IPython.display import HTML\n",
        "\n",
        "input_form = \"\"\"\n",
        "<div style=\"background-color:gainsboro; border:solid black; width:300px; padding:20px;\">\n",
        "Variable Name: <input type=\"text\" id=\"var_name\" value=\"foo\"><br>\n",
        "Variable Value: <input type=\"text\" id=\"var_value\" value=\"bar\"><br>\n",
        "<button onclick=\"set_value()\">Set Value</button>\n",
        "</div>\n",
        "\"\"\"\n",
        "\n",
        "javascript = \"\"\"\n",
        "<script type=\"text/Javascript\">\n",
        "    window.set_value = function (){\n",
        "        document.getElementById('var_name').value = 'rebornix';\n",
        "    }\n",
        "</script>\n",
        "\"\"\"\n",
        "\n",
        "HTML(input_form + javascript)"
      ]
    },
    {
      "cell_type": "code",
      "execution_count": 10,
      "metadata": {
        "azdata_cell_guid": "b064ece1-cfef-4502-82d3-d4ba473a2ae5"
      },
      "outputs": [
        {
          "data": {
            "image/png": "[encoded data removed]",
            "text/plain": [
              "<Figure size 1440x720 with 1 Axes>"
            ]
          },
          "metadata": {
            "needs_background": "light"
          },
          "output_type": "display_data"
        }
      ],
      "source": [
        "%matplotlib inline\n",
        "from matplotlib import pyplot as plt\n",
        "import pandas as pd\n",
        "\n",
        "s = pd.Series([1,2,3], index=['a','b','c'])\n",
        "\n",
        "s.plot.bar(figsize=(20,10))\n",
        "plt.xlabel('Foo')\n",
        "plt.ylabel('Bar')\n",
        "plt.title(\"Hello World\");\n"
      ]
    },
    {
      "cell_type": "code",
      "execution_count": 7,
      "metadata": {
        "azdata_cell_guid": "1dd74f3c-996e-4e7c-abcc-6d57815807a5",
        "tags": []
      },
      "outputs": [],
      "source": [
        "b = input('type:'\n",
        "print(b)"
      ]
    },
    {
      "cell_type": "markdown",
      "metadata": {
        "azdata_cell_guid": "cfd851ac-e42e-4f5c-896b-98250ae87f53"
      },
      "source": [
        "There are two other keyboard shortcuts for running code:\n",
        "\n",
        "* `Alt-Enter` runs the current cell and inserts a new one below.\n",
        "* `Ctrl-Enter` run the current cell and enters command mode."
      ]
    },
    {
      "cell_type": "markdown",
      "metadata": {
        "azdata_cell_guid": "9993905c-84dc-44c8-9949-cc33211a8b0e"
      },
      "source": [
        "## Managing the Kernel"
      ]
    },
    {
      "cell_type": "markdown",
      "metadata": {
        "azdata_cell_guid": "9b1217ea-3a8b-4900-a234-c923cd4a8b05"
      },
      "source": [
        "Code is run in a separate process called the Kernel.  The Kernel can be interrupted or restarted.  Try running the following cell and then hit the <button class='btn btn-default btn-xs'><i class='icon-stop fa fa-stop'></i></button> button in the toolbar above."
      ]
    },
    {
      "cell_type": "code",
      "execution_count": 1,
      "metadata": {},
      "outputs": [
        {
          "data": {
            "text/html": [
              "<h1>Hello, world!</h1>"
            ],
            "text/plain": [
              "<IPython.core.display.HTML object>"
            ]
          },
          "metadata": {},
          "output_type": "display_data"
        }
      ],
      "source": [
        "from IPython.core.display import display, HTML\n",
        "display(HTML('<h1>Hello, world!</h1>'))\n"
      ]
    },
    {
      "cell_type": "markdown",
      "metadata": {
        "azdata_cell_guid": "dc808509-201d-4256-b291-63f28626762d"
      },
      "source": [
        "If the Kernel dies you will be prompted to restart it. Here we call the low-level system libc.time routine with the wrong argument via\n",
        "ctypes to segfault the Python interpreter:"
      ]
    },
    {
      "cell_type": "code",
      "execution_count": 5,
      "metadata": {
        "azdata_cell_guid": "c14bbb93-dc72-42b1-8374-e85b8394ec7a",
        "collapsed": false
      },
      "outputs": [],
      "source": [
        "from IPython.display import IFrame\n",
        "\n",
        "IFrame(src='https://s3.amazonaws.com/duhaime/blog/visualizations/isolation-forests.html', width=700, height=600)\n"
      ]
    },
    {
      "cell_type": "markdown",
      "metadata": {
        "azdata_cell_guid": "e593a337-f7df-4a90-a240-961f4bfa1e31"
      },
      "source": [
        "## Cell menu"
      ]
    },
    {
      "cell_type": "markdown",
      "metadata": {
        "azdata_cell_guid": "ca2c1577-349a-40a4-984f-8bb1f215186d"
      },
      "source": [
        "The \"Cell\" menu has a number of menu items for running code in different ways. These includes:\n",
        "\n",
        "* Run and Select Below\n",
        "* Run and Insert Below\n",
        "* Run All\n",
        "* Run All Above\n",
        "* Run All Below"
      ]
    },
    {
      "cell_type": "markdown",
      "metadata": {
        "azdata_cell_guid": "e08d1023-53aa-4af2-ad7c-1a93a6304371"
      },
      "source": [
        "## Restarting the kernels"
      ]
    },
    {
      "cell_type": "markdown",
      "metadata": {
        "azdata_cell_guid": "e0cc2830-129b-45d3-8a4e-f4fc4a20d7b2"
      },
      "source": [
        "The kernel maintains the state of a notebook's computations. You can reset this state by restarting the kernel. This is done by clicking on the <button class='btn btn-default btn-xs'><i class='fa fa-repeat icon-repeat'></i></button> in the toolbar above."
      ]
    },
    {
      "cell_type": "markdown",
      "metadata": {
        "azdata_cell_guid": "c00c237d-4bcf-4dbb-b106-f76de82cf78d"
      },
      "source": [
        "## sys.stdout and sys.stderr"
      ]
    },
    {
      "cell_type": "markdown",
      "metadata": {
        "azdata_cell_guid": "58bf4c9f-9ab4-47a4-a031-8e0b45bc5bcb"
      },
      "source": [
        "The stdout and stderr streams are displayed as text in the output area."
      ]
    },
    {
      "cell_type": "code",
      "execution_count": 6,
      "metadata": {
        "azdata_cell_guid": "c5dc6e63-4bf1-4d88-b80d-8fd0c2245fd4",
        "collapsed": false
      },
      "outputs": [
        {
          "name": "stdout",
          "output_type": "stream",
          "text": [
            "hi, stdout\n"
          ]
        }
      ],
      "source": [
        "print(\"hi, stdout\")"
      ]
    },
    {
      "cell_type": "code",
      "execution_count": 7,
      "metadata": {
        "azdata_cell_guid": "a665b9f1-d4d4-4531-a1a0-ba70b21eb35c",
        "collapsed": false
      },
      "outputs": [
        {
          "name": "stderr",
          "output_type": "stream",
          "text": [
            "hi, stderr\n"
          ]
        }
      ],
      "source": [
        "from __future__ import print_function\n",
        "print('hi, stderr', file=sys.stderr)"
      ]
    },
    {
      "cell_type": "markdown",
      "metadata": {
        "azdata_cell_guid": "11538ba4-17b9-44d1-a0d1-49855447e0ab"
      },
      "source": [
        "## Output is asynchronous"
      ]
    },
    {
      "cell_type": "markdown",
      "metadata": {
        "azdata_cell_guid": "a542fef4-e5db-4f7c-99c8-23a79cabffee"
      },
      "source": [
        "All output is displayed asynchronously as it is generated in the Kernel. If you execute the next cell, you will see the output one piece at a time, not all at the end."
      ]
    },
    {
      "cell_type": "code",
      "execution_count": 5,
      "metadata": {
        "azdata_cell_guid": "19a81733-1cce-4b5c-bdfd-cfbcbecc2ac7",
        "collapsed": false,
        "tags": []
      },
      "outputs": [
        {
          "name": "stdout",
          "output_type": "stream",
          "text": [
            "0\n"
          ]
        },
        {
          "name": "stdout",
          "output_type": "stream",
          "text": [
            "1\n"
          ]
        },
        {
          "name": "stdout",
          "output_type": "stream",
          "text": [
            "2\n"
          ]
        },
        {
          "name": "stdout",
          "output_type": "stream",
          "text": [
            "3\n"
          ]
        },
        {
          "name": "stdout",
          "output_type": "stream",
          "text": [
            "4\n"
          ]
        },
        {
          "name": "stdout",
          "output_type": "stream",
          "text": [
            "5\n"
          ]
        },
        {
          "name": "stdout",
          "output_type": "stream",
          "text": [
            "6\n"
          ]
        },
        {
          "name": "stdout",
          "output_type": "stream",
          "text": [
            "7\n"
          ]
        }
      ],
      "source": [
        "import time, sys\n",
        "for i in range(8):\n",
        "    print(i)\n",
        "    time.sleep(0.5)"
      ]
    },
    {
      "cell_type": "markdown",
      "metadata": {
        "azdata_cell_guid": "2f5cbb72-a727-4519-94f0-c230926342e9"
      },
      "source": [
        "## Large outputs"
      ]
    },
    {
      "cell_type": "markdown",
      "metadata": {
        "azdata_cell_guid": "db63d4bb-8c9d-4e30-9b2d-9c89bf30d305"
      },
      "source": [
        "To better handle large outputs, the output area can be collapsed. Run the following cell and then single- or double- click on the active area to the left of the output:"
      ]
    },
    {
      "cell_type": "code",
      "execution_count": 9,
      "metadata": {
        "azdata_cell_guid": "225315ec-1d54-4483-ac89-222d2070be02",
        "collapsed": false
      },
      "outputs": [
        {
          "name": "stdout",
          "output_type": "stream",
          "text": [
            "0\n",
            "1\n",
            "2\n",
            "3\n",
            "4\n",
            "5\n",
            "6\n",
            "7\n",
            "8\n",
            "9\n",
            "10\n",
            "11\n",
            "12\n",
            "13\n",
            "14\n",
            "15\n",
            "16\n",
            "17\n",
            "18\n",
            "19\n",
            "20\n",
            "21\n",
            "22\n",
            "23\n",
            "24\n",
            "25\n",
            "26\n",
            "27\n",
            "28\n",
            "29\n",
            "30\n",
            "31\n",
            "32\n",
            "33\n",
            "34\n",
            "35\n",
            "36\n",
            "37\n",
            "38\n",
            "39\n",
            "40\n",
            "41\n",
            "42\n",
            "43\n",
            "44\n",
            "45\n",
            "46\n",
            "47\n",
            "48\n",
            "49\n"
          ]
        }
      ],
      "source": [
        "for i in range(50):\n",
        "    print(i)"
      ]
    },
    {
      "cell_type": "markdown",
      "metadata": {
        "azdata_cell_guid": "2e1cde7c-c21c-4eed-8fed-6d1fc3e6625d"
      },
      "source": [
        "# Running Code"
      ]
    },
    {
      "cell_type": "markdown",
      "metadata": {
        "azdata_cell_guid": "a46c018f-4adc-4e63-a13c-688394fcc27f"
      },
      "source": [
        "*First* and foremost, the Jupyter Notebook is an interactive environment for writing and running code. The notebook is capable of running code in a wide range of languages. However, each notebook is associated with a single kernel.  This notebook is associated with the IPython kernel, therefore runs Python code.\n"
      ]
    },
    {
      "cell_type": "markdown",
      "metadata": {
        "azdata_cell_guid": "40787b35-53fe-40e4-ac10-60c008cf61f0"
      },
      "source": [
        "## Code cells allow you to enter and run code"
      ]
    },
    {
      "cell_type": "code",
      "execution_count": 2,
      "metadata": {},
      "outputs": [
        {
          "data": {
            "text/html": [
              "\n",
              "        <iframe\n",
              "            width=\"700\"\n",
              "            height=\"600\"\n",
              "            src=\"https://s3.amazonaws.com/duhaime/blog/visualizations/isolation-forests.html\"\n",
              "            frameborder=\"0\"\n",
              "            allowfullscreen\n",
              "        ></iframe>\n",
              "        "
            ],
            "text/plain": [
              "<IPython.lib.display.IFrame at 0x11dee3e80>"
            ]
          },
          "execution_count": 2,
          "metadata": {},
          "output_type": "execute_result"
        }
      ],
      "source": [
        "from IPython.display import IFrame\n",
        "\n",
        "IFrame(src='https://s3.amazonaws.com/duhaime/blog/visualizations/isolation-forests.html', width=700, height=600)\n"
      ]
    },
    {
      "cell_type": "code",
      "execution_count": 2,
      "metadata": {},
      "outputs": [
        {
          "data": {
            "text/html": "\n<div style=\"background-color:gainsboro; border:solid black; width:300px; padding:20px;\">\nVariable Name: <input type=\"text\" id=\"var_name\" value=\"foo\"><br>\nVariable Value: <input type=\"text\" id=\"var_value\" value=\"bar\"><br>\n<button onclick=\"set_value()\">Set Value</button>\n</div>\n\n<script type=\"text/Javascript\">\n    window.set_value = function (){\n        document.getElementById('var_name').value = 'rebornix';\n    }\n</script>\n",
            "text/plain": "<IPython.core.display.HTML object>"
          },
          "execution_count": 2,
          "metadata": {},
          "output_type": "execute_result"
        }
      ],
      "source": [
        "from IPython.display import HTML\n",
        "\n",
        "input_form = \"\"\"\n",
        "<div style=\"background-color:gainsboro; border:solid black; width:300px; padding:20px;\">\n",
        "Variable Name: <input type=\"text\" id=\"var_name\" value=\"foo\"><br>\n",
        "Variable Value: <input type=\"text\" id=\"var_value\" value=\"bar\"><br>\n",
        "<button onclick=\"set_value()\">Set Value</button>\n",
        "</div>\n",
        "\"\"\"\n",
        "\n",
        "javascript = \"\"\"\n",
        "<script type=\"text/Javascript\">\n",
        "    window.set_value = function (){\n",
        "        document.getElementById('var_name').value = 'rebornix';\n",
        "    }\n",
        "</script>\n",
        "\"\"\"\n",
        "\n",
        "HTML(input_form + javascript)"
      ]
    },
    {
      "cell_type": "code",
      "execution_count": 10,
      "metadata": {
        "azdata_cell_guid": "b064ece1-cfef-4502-82d3-d4ba473a2ae5"
      },
      "outputs": [
        {
          "data": {
            "image/png": "[encoded data removed]",
            "text/plain": [
              "<Figure size 1440x720 with 1 Axes>"
            ]
          },
          "metadata": {
            "needs_background": "light"
          },
          "output_type": "display_data"
        }
      ],
      "source": [
        "%matplotlib inline\n",
        "from matplotlib import pyplot as plt\n",
        "import pandas as pd\n",
        "\n",
        "s = pd.Series([1,2,3], index=['a','b','c'])\n",
        "\n",
        "s.plot.bar(figsize=(20,10))\n",
        "plt.xlabel('Foo')\n",
        "plt.ylabel('Bar')\n",
        "plt.title(\"Hello World\");\n"
      ]
    },
    {
      "cell_type": "code",
      "execution_count": 7,
      "metadata": {
        "azdata_cell_guid": "1dd74f3c-996e-4e7c-abcc-6d57815807a5",
        "tags": []
      },
      "outputs": [],
      "source": [
        "b = input('type:'\n",
        "print(b)"
      ]
    },
    {
      "cell_type": "markdown",
      "metadata": {
        "azdata_cell_guid": "cfd851ac-e42e-4f5c-896b-98250ae87f53"
      },
      "source": [
        "There are two other keyboard shortcuts for running code:\n",
        "\n",
        "* `Alt-Enter` runs the current cell and inserts a new one below.\n",
        "* `Ctrl-Enter` run the current cell and enters command mode."
      ]
    },
    {
      "cell_type": "markdown",
      "metadata": {
        "azdata_cell_guid": "9993905c-84dc-44c8-9949-cc33211a8b0e"
      },
      "source": [
        "## Managing the Kernel"
      ]
    },
    {
      "cell_type": "markdown",
      "metadata": {
        "azdata_cell_guid": "9b1217ea-3a8b-4900-a234-c923cd4a8b05"
      },
      "source": [
        "Code is run in a separate process called the Kernel.  The Kernel can be interrupted or restarted.  Try running the following cell and then hit the <button class='btn btn-default btn-xs'><i class='icon-stop fa fa-stop'></i></button> button in the toolbar above."
      ]
    },
    {
      "cell_type": "code",
      "execution_count": 1,
      "metadata": {},
      "outputs": [
        {
          "data": {
            "text/html": [
              "<h1>Hello, world!</h1>"
            ],
            "text/plain": [
              "<IPython.core.display.HTML object>"
            ]
          },
          "metadata": {},
          "output_type": "display_data"
        }
      ],
      "source": [
        "from IPython.core.display import display, HTML\n",
        "display(HTML('<h1>Hello, world!</h1>'))\n"
      ]
    },
    {
      "cell_type": "markdown",
      "metadata": {
        "azdata_cell_guid": "dc808509-201d-4256-b291-63f28626762d"
      },
      "source": [
        "If the Kernel dies you will be prompted to restart it. Here we call the low-level system libc.time routine with the wrong argument via\n",
        "ctypes to segfault the Python interpreter:"
      ]
    },
    {
      "cell_type": "code",
      "execution_count": 5,
      "metadata": {
        "azdata_cell_guid": "c14bbb93-dc72-42b1-8374-e85b8394ec7a",
        "collapsed": false
      },
      "outputs": [],
      "source": [
        "from IPython.display import IFrame\n",
        "\n",
        "IFrame(src='https://s3.amazonaws.com/duhaime/blog/visualizations/isolation-forests.html', width=700, height=600)\n"
      ]
    },
    {
      "cell_type": "markdown",
      "metadata": {
        "azdata_cell_guid": "e593a337-f7df-4a90-a240-961f4bfa1e31"
      },
      "source": [
        "## Cell menu"
      ]
    },
    {
      "cell_type": "markdown",
      "metadata": {
        "azdata_cell_guid": "ca2c1577-349a-40a4-984f-8bb1f215186d"
      },
      "source": [
        "The \"Cell\" menu has a number of menu items for running code in different ways. These includes:\n",
        "\n",
        "* Run and Select Below\n",
        "* Run and Insert Below\n",
        "* Run All\n",
        "* Run All Above\n",
        "* Run All Below"
      ]
    },
    {
      "cell_type": "markdown",
      "metadata": {
        "azdata_cell_guid": "e08d1023-53aa-4af2-ad7c-1a93a6304371"
      },
      "source": [
        "## Restarting the kernels"
      ]
    },
    {
      "cell_type": "markdown",
      "metadata": {
        "azdata_cell_guid": "e0cc2830-129b-45d3-8a4e-f4fc4a20d7b2"
      },
      "source": [
        "The kernel maintains the state of a notebook's computations. You can reset this state by restarting the kernel. This is done by clicking on the <button class='btn btn-default btn-xs'><i class='fa fa-repeat icon-repeat'></i></button> in the toolbar above."
      ]
    },
    {
      "cell_type": "markdown",
      "metadata": {
        "azdata_cell_guid": "c00c237d-4bcf-4dbb-b106-f76de82cf78d"
      },
      "source": [
        "## sys.stdout and sys.stderr"
      ]
    },
    {
      "cell_type": "markdown",
      "metadata": {
        "azdata_cell_guid": "58bf4c9f-9ab4-47a4-a031-8e0b45bc5bcb"
      },
      "source": [
        "The stdout and stderr streams are displayed as text in the output area."
      ]
    },
    {
      "cell_type": "code",
      "execution_count": 6,
      "metadata": {
        "azdata_cell_guid": "c5dc6e63-4bf1-4d88-b80d-8fd0c2245fd4",
        "collapsed": false
      },
      "outputs": [
        {
          "name": "stdout",
          "output_type": "stream",
          "text": [
            "hi, stdout\n"
          ]
        }
      ],
      "source": [
        "print(\"hi, stdout\")"
      ]
    },
    {
      "cell_type": "code",
      "execution_count": 7,
      "metadata": {
        "azdata_cell_guid": "a665b9f1-d4d4-4531-a1a0-ba70b21eb35c",
        "collapsed": false
      },
      "outputs": [
        {
          "name": "stderr",
          "output_type": "stream",
          "text": [
            "hi, stderr\n"
          ]
        }
      ],
      "source": [
        "from __future__ import print_function\n",
        "print('hi, stderr', file=sys.stderr)"
      ]
    },
    {
      "cell_type": "markdown",
      "metadata": {
        "azdata_cell_guid": "11538ba4-17b9-44d1-a0d1-49855447e0ab"
      },
      "source": [
        "## Output is asynchronous"
      ]
    },
    {
      "cell_type": "markdown",
      "metadata": {
        "azdata_cell_guid": "a542fef4-e5db-4f7c-99c8-23a79cabffee"
      },
      "source": [
        "All output is displayed asynchronously as it is generated in the Kernel. If you execute the next cell, you will see the output one piece at a time, not all at the end."
      ]
    },
    {
      "cell_type": "code",
      "execution_count": 5,
      "metadata": {
        "azdata_cell_guid": "19a81733-1cce-4b5c-bdfd-cfbcbecc2ac7",
        "collapsed": false,
        "tags": []
      },
      "outputs": [
        {
          "name": "stdout",
          "output_type": "stream",
          "text": [
            "0\n"
          ]
        },
        {
          "name": "stdout",
          "output_type": "stream",
          "text": [
            "1\n"
          ]
        },
        {
          "name": "stdout",
          "output_type": "stream",
          "text": [
            "2\n"
          ]
        },
        {
          "name": "stdout",
          "output_type": "stream",
          "text": [
            "3\n"
          ]
        },
        {
          "name": "stdout",
          "output_type": "stream",
          "text": [
            "4\n"
          ]
        },
        {
          "name": "stdout",
          "output_type": "stream",
          "text": [
            "5\n"
          ]
        },
        {
          "name": "stdout",
          "output_type": "stream",
          "text": [
            "6\n"
          ]
        },
        {
          "name": "stdout",
          "output_type": "stream",
          "text": [
            "7\n"
          ]
        }
      ],
      "source": [
        "import time, sys\n",
        "for i in range(8):\n",
        "    print(i)\n",
        "    time.sleep(0.5)"
      ]
    },
    {
      "cell_type": "markdown",
      "metadata": {
        "azdata_cell_guid": "2f5cbb72-a727-4519-94f0-c230926342e9"
      },
      "source": [
        "## Large outputs"
      ]
    },
    {
      "cell_type": "markdown",
      "metadata": {
        "azdata_cell_guid": "db63d4bb-8c9d-4e30-9b2d-9c89bf30d305"
      },
      "source": [
        "To better handle large outputs, the output area can be collapsed. Run the following cell and then single- or double- click on the active area to the left of the output:"
      ]
    },
    {
      "cell_type": "code",
      "execution_count": 9,
      "metadata": {
        "azdata_cell_guid": "225315ec-1d54-4483-ac89-222d2070be02",
        "collapsed": false
      },
      "outputs": [
        {
          "name": "stdout",
          "output_type": "stream",
          "text": [
            "0\n",
            "1\n",
            "2\n",
            "3\n",
            "4\n",
            "5\n",
            "6\n",
            "7\n",
            "8\n",
            "9\n",
            "10\n",
            "11\n",
            "12\n",
            "13\n",
            "14\n",
            "15\n",
            "16\n",
            "17\n",
            "18\n",
            "19\n",
            "20\n",
            "21\n",
            "22\n",
            "23\n",
            "24\n",
            "25\n",
            "26\n",
            "27\n",
            "28\n",
            "29\n",
            "30\n",
            "31\n",
            "32\n",
            "33\n",
            "34\n",
            "35\n",
            "36\n",
            "37\n",
            "38\n",
            "39\n",
            "40\n",
            "41\n",
            "42\n",
            "43\n",
            "44\n",
            "45\n",
            "46\n",
            "47\n",
            "48\n",
            "49\n"
          ]
        }
      ],
      "source": [
        "for i in range(50):\n",
        "    print(i)"
      ]
    },
    {
      "cell_type": "markdown",
      "metadata": {
        "azdata_cell_guid": "2e1cde7c-c21c-4eed-8fed-6d1fc3e6625d"
      },
      "source": [
        "# Running Code"
      ]
    },
    {
      "cell_type": "markdown",
      "metadata": {
        "azdata_cell_guid": "a46c018f-4adc-4e63-a13c-688394fcc27f"
      },
      "source": [
        "*First* and foremost, the Jupyter Notebook is an interactive environment for writing and running code. The notebook is capable of running code in a wide range of languages. However, each notebook is associated with a single kernel.  This notebook is associated with the IPython kernel, therefore runs Python code.\n"
      ]
    },
    {
      "cell_type": "markdown",
      "metadata": {
        "azdata_cell_guid": "40787b35-53fe-40e4-ac10-60c008cf61f0"
      },
      "source": [
        "## Code cells allow you to enter and run code"
      ]
    },
    {
      "cell_type": "code",
      "execution_count": 2,
      "metadata": {},
      "outputs": [
        {
          "data": {
            "text/html": [
              "\n",
              "        <iframe\n",
              "            width=\"700\"\n",
              "            height=\"600\"\n",
              "            src=\"https://s3.amazonaws.com/duhaime/blog/visualizations/isolation-forests.html\"\n",
              "            frameborder=\"0\"\n",
              "            allowfullscreen\n",
              "        ></iframe>\n",
              "        "
            ],
            "text/plain": [
              "<IPython.lib.display.IFrame at 0x11dee3e80>"
            ]
          },
          "execution_count": 2,
          "metadata": {},
          "output_type": "execute_result"
        }
      ],
      "source": [
        "from IPython.display import IFrame\n",
        "\n",
        "IFrame(src='https://s3.amazonaws.com/duhaime/blog/visualizations/isolation-forests.html', width=700, height=600)\n"
      ]
    },
    {
      "cell_type": "code",
      "execution_count": 2,
      "metadata": {},
      "outputs": [
        {
          "data": {
            "text/html": "\n<div style=\"background-color:gainsboro; border:solid black; width:300px; padding:20px;\">\nVariable Name: <input type=\"text\" id=\"var_name\" value=\"foo\"><br>\nVariable Value: <input type=\"text\" id=\"var_value\" value=\"bar\"><br>\n<button onclick=\"set_value()\">Set Value</button>\n</div>\n\n<script type=\"text/Javascript\">\n    window.set_value = function (){\n        document.getElementById('var_name').value = 'rebornix';\n    }\n</script>\n",
            "text/plain": "<IPython.core.display.HTML object>"
          },
          "execution_count": 2,
          "metadata": {},
          "output_type": "execute_result"
        }
      ],
      "source": [
        "from IPython.display import HTML\n",
        "\n",
        "input_form = \"\"\"\n",
        "<div style=\"background-color:gainsboro; border:solid black; width:300px; padding:20px;\">\n",
        "Variable Name: <input type=\"text\" id=\"var_name\" value=\"foo\"><br>\n",
        "Variable Value: <input type=\"text\" id=\"var_value\" value=\"bar\"><br>\n",
        "<button onclick=\"set_value()\">Set Value</button>\n",
        "</div>\n",
        "\"\"\"\n",
        "\n",
        "javascript = \"\"\"\n",
        "<script type=\"text/Javascript\">\n",
        "    window.set_value = function (){\n",
        "        document.getElementById('var_name').value = 'rebornix';\n",
        "    }\n",
        "</script>\n",
        "\"\"\"\n",
        "\n",
        "HTML(input_form + javascript)"
      ]
    },
    {
      "cell_type": "code",
      "execution_count": 10,
      "metadata": {
        "azdata_cell_guid": "b064ece1-cfef-4502-82d3-d4ba473a2ae5"
      },
      "outputs": [
        {
          "data": {
            "image/png": "[encoded data removed]",
            "text/plain": [
              "<Figure size 1440x720 with 1 Axes>"
            ]
          },
          "metadata": {
            "needs_background": "light"
          },
          "output_type": "display_data"
        }
      ],
      "source": [
        "%matplotlib inline\n",
        "from matplotlib import pyplot as plt\n",
        "import pandas as pd\n",
        "\n",
        "s = pd.Series([1,2,3], index=['a','b','c'])\n",
        "\n",
        "s.plot.bar(figsize=(20,10))\n",
        "plt.xlabel('Foo')\n",
        "plt.ylabel('Bar')\n",
        "plt.title(\"Hello World\");\n"
      ]
    },
    {
      "cell_type": "code",
      "execution_count": 7,
      "metadata": {
        "azdata_cell_guid": "1dd74f3c-996e-4e7c-abcc-6d57815807a5",
        "tags": []
      },
      "outputs": [],
      "source": [
        "b = input('type:'\n",
        "print(b)"
      ]
    },
    {
      "cell_type": "markdown",
      "metadata": {
        "azdata_cell_guid": "cfd851ac-e42e-4f5c-896b-98250ae87f53"
      },
      "source": [
        "There are two other keyboard shortcuts for running code:\n",
        "\n",
        "* `Alt-Enter` runs the current cell and inserts a new one below.\n",
        "* `Ctrl-Enter` run the current cell and enters command mode."
      ]
    },
    {
      "cell_type": "markdown",
      "metadata": {
        "azdata_cell_guid": "9993905c-84dc-44c8-9949-cc33211a8b0e"
      },
      "source": [
        "## Managing the Kernel"
      ]
    },
    {
      "cell_type": "markdown",
      "metadata": {
        "azdata_cell_guid": "9b1217ea-3a8b-4900-a234-c923cd4a8b05"
      },
      "source": [
        "Code is run in a separate process called the Kernel.  The Kernel can be interrupted or restarted.  Try running the following cell and then hit the <button class='btn btn-default btn-xs'><i class='icon-stop fa fa-stop'></i></button> button in the toolbar above."
      ]
    },
    {
      "cell_type": "code",
      "execution_count": 1,
      "metadata": {},
      "outputs": [
        {
          "data": {
            "text/html": [
              "<h1>Hello, world!</h1>"
            ],
            "text/plain": [
              "<IPython.core.display.HTML object>"
            ]
          },
          "metadata": {},
          "output_type": "display_data"
        }
      ],
      "source": [
        "from IPython.core.display import display, HTML\n",
        "display(HTML('<h1>Hello, world!</h1>'))\n"
      ]
    },
    {
      "cell_type": "markdown",
      "metadata": {
        "azdata_cell_guid": "dc808509-201d-4256-b291-63f28626762d"
      },
      "source": [
        "If the Kernel dies you will be prompted to restart it. Here we call the low-level system libc.time routine with the wrong argument via\n",
        "ctypes to segfault the Python interpreter:"
      ]
    },
    {
      "cell_type": "code",
      "execution_count": 5,
      "metadata": {
        "azdata_cell_guid": "c14bbb93-dc72-42b1-8374-e85b8394ec7a",
        "collapsed": false
      },
      "outputs": [],
      "source": [
        "from IPython.display import IFrame\n",
        "\n",
        "IFrame(src='https://s3.amazonaws.com/duhaime/blog/visualizations/isolation-forests.html', width=700, height=600)\n"
      ]
    },
    {
      "cell_type": "markdown",
      "metadata": {
        "azdata_cell_guid": "e593a337-f7df-4a90-a240-961f4bfa1e31"
      },
      "source": [
        "## Cell menu"
      ]
    },
    {
      "cell_type": "markdown",
      "metadata": {
        "azdata_cell_guid": "ca2c1577-349a-40a4-984f-8bb1f215186d"
      },
      "source": [
        "The \"Cell\" menu has a number of menu items for running code in different ways. These includes:\n",
        "\n",
        "* Run and Select Below\n",
        "* Run and Insert Below\n",
        "* Run All\n",
        "* Run All Above\n",
        "* Run All Below"
      ]
    },
    {
      "cell_type": "markdown",
      "metadata": {
        "azdata_cell_guid": "e08d1023-53aa-4af2-ad7c-1a93a6304371"
      },
      "source": [
        "## Restarting the kernels"
      ]
    },
    {
      "cell_type": "markdown",
      "metadata": {
        "azdata_cell_guid": "e0cc2830-129b-45d3-8a4e-f4fc4a20d7b2"
      },
      "source": [
        "The kernel maintains the state of a notebook's computations. You can reset this state by restarting the kernel. This is done by clicking on the <button class='btn btn-default btn-xs'><i class='fa fa-repeat icon-repeat'></i></button> in the toolbar above."
      ]
    },
    {
      "cell_type": "markdown",
      "metadata": {
        "azdata_cell_guid": "c00c237d-4bcf-4dbb-b106-f76de82cf78d"
      },
      "source": [
        "## sys.stdout and sys.stderr"
      ]
    },
    {
      "cell_type": "markdown",
      "metadata": {
        "azdata_cell_guid": "58bf4c9f-9ab4-47a4-a031-8e0b45bc5bcb"
      },
      "source": [
        "The stdout and stderr streams are displayed as text in the output area."
      ]
    },
    {
      "cell_type": "code",
      "execution_count": 6,
      "metadata": {
        "azdata_cell_guid": "c5dc6e63-4bf1-4d88-b80d-8fd0c2245fd4",
        "collapsed": false
      },
      "outputs": [
        {
          "name": "stdout",
          "output_type": "stream",
          "text": [
            "hi, stdout\n"
          ]
        }
      ],
      "source": [
        "print(\"hi, stdout\")"
      ]
    },
    {
      "cell_type": "code",
      "execution_count": 7,
      "metadata": {
        "azdata_cell_guid": "a665b9f1-d4d4-4531-a1a0-ba70b21eb35c",
        "collapsed": false
      },
      "outputs": [
        {
          "name": "stderr",
          "output_type": "stream",
          "text": [
            "hi, stderr\n"
          ]
        }
      ],
      "source": [
        "from __future__ import print_function\n",
        "print('hi, stderr', file=sys.stderr)"
      ]
    },
    {
      "cell_type": "markdown",
      "metadata": {
        "azdata_cell_guid": "11538ba4-17b9-44d1-a0d1-49855447e0ab"
      },
      "source": [
        "## Output is asynchronous"
      ]
    },
    {
      "cell_type": "markdown",
      "metadata": {
        "azdata_cell_guid": "a542fef4-e5db-4f7c-99c8-23a79cabffee"
      },
      "source": [
        "All output is displayed asynchronously as it is generated in the Kernel. If you execute the next cell, you will see the output one piece at a time, not all at the end."
      ]
    },
    {
      "cell_type": "code",
      "execution_count": 5,
      "metadata": {
        "azdata_cell_guid": "19a81733-1cce-4b5c-bdfd-cfbcbecc2ac7",
        "collapsed": false,
        "tags": []
      },
      "outputs": [
        {
          "name": "stdout",
          "output_type": "stream",
          "text": [
            "0\n"
          ]
        },
        {
          "name": "stdout",
          "output_type": "stream",
          "text": [
            "1\n"
          ]
        },
        {
          "name": "stdout",
          "output_type": "stream",
          "text": [
            "2\n"
          ]
        },
        {
          "name": "stdout",
          "output_type": "stream",
          "text": [
            "3\n"
          ]
        },
        {
          "name": "stdout",
          "output_type": "stream",
          "text": [
            "4\n"
          ]
        },
        {
          "name": "stdout",
          "output_type": "stream",
          "text": [
            "5\n"
          ]
        },
        {
          "name": "stdout",
          "output_type": "stream",
          "text": [
            "6\n"
          ]
        },
        {
          "name": "stdout",
          "output_type": "stream",
          "text": [
            "7\n"
          ]
        }
      ],
      "source": [
        "import time, sys\n",
        "for i in range(8):\n",
        "    print(i)\n",
        "    time.sleep(0.5)"
      ]
    },
    {
      "cell_type": "markdown",
      "metadata": {
        "azdata_cell_guid": "2f5cbb72-a727-4519-94f0-c230926342e9"
      },
      "source": [
        "## Large outputs"
      ]
    },
    {
      "cell_type": "markdown",
      "metadata": {
        "azdata_cell_guid": "db63d4bb-8c9d-4e30-9b2d-9c89bf30d305"
      },
      "source": [
        "To better handle large outputs, the output area can be collapsed. Run the following cell and then single- or double- click on the active area to the left of the output:"
      ]
    },
    {
      "cell_type": "code",
      "execution_count": 9,
      "metadata": {
        "azdata_cell_guid": "225315ec-1d54-4483-ac89-222d2070be02",
        "collapsed": false
      },
      "outputs": [
        {
          "name": "stdout",
          "output_type": "stream",
          "text": [
            "0\n",
            "1\n",
            "2\n",
            "3\n",
            "4\n",
            "5\n",
            "6\n",
            "7\n",
            "8\n",
            "9\n",
            "10\n",
            "11\n",
            "12\n",
            "13\n",
            "14\n",
            "15\n",
            "16\n",
            "17\n",
            "18\n",
            "19\n",
            "20\n",
            "21\n",
            "22\n",
            "23\n",
            "24\n",
            "25\n",
            "26\n",
            "27\n",
            "28\n",
            "29\n",
            "30\n",
            "31\n",
            "32\n",
            "33\n",
            "34\n",
            "35\n",
            "36\n",
            "37\n",
            "38\n",
            "39\n",
            "40\n",
            "41\n",
            "42\n",
            "43\n",
            "44\n",
            "45\n",
            "46\n",
            "47\n",
            "48\n",
            "49\n"
          ]
        }
      ],
      "source": [
        "for i in range(50):\n",
        "    print(i)"
      ]
    },
    {
      "cell_type": "markdown",
      "metadata": {
        "azdata_cell_guid": "2e1cde7c-c21c-4eed-8fed-6d1fc3e6625d"
      },
      "source": [
        "# Running Code"
      ]
    },
    {
      "cell_type": "markdown",
      "metadata": {
        "azdata_cell_guid": "a46c018f-4adc-4e63-a13c-688394fcc27f"
      },
      "source": [
        "*First* and foremost, the Jupyter Notebook is an interactive environment for writing and running code. The notebook is capable of running code in a wide range of languages. However, each notebook is associated with a single kernel.  This notebook is associated with the IPython kernel, therefore runs Python code.\n"
      ]
    },
    {
      "cell_type": "markdown",
      "metadata": {
        "azdata_cell_guid": "40787b35-53fe-40e4-ac10-60c008cf61f0"
      },
      "source": [
        "## Code cells allow you to enter and run code"
      ]
    },
    {
      "cell_type": "code",
      "execution_count": 2,
      "metadata": {},
      "outputs": [
        {
          "data": {
            "text/html": [
              "\n",
              "        <iframe\n",
              "            width=\"700\"\n",
              "            height=\"600\"\n",
              "            src=\"https://s3.amazonaws.com/duhaime/blog/visualizations/isolation-forests.html\"\n",
              "            frameborder=\"0\"\n",
              "            allowfullscreen\n",
              "        ></iframe>\n",
              "        "
            ],
            "text/plain": [
              "<IPython.lib.display.IFrame at 0x11dee3e80>"
            ]
          },
          "execution_count": 2,
          "metadata": {},
          "output_type": "execute_result"
        }
      ],
      "source": [
        "from IPython.display import IFrame\n",
        "\n",
        "IFrame(src='https://s3.amazonaws.com/duhaime/blog/visualizations/isolation-forests.html', width=700, height=600)\n"
      ]
    },
    {
      "cell_type": "code",
      "execution_count": 2,
      "metadata": {},
      "outputs": [
        {
          "data": {
            "text/html": "\n<div style=\"background-color:gainsboro; border:solid black; width:300px; padding:20px;\">\nVariable Name: <input type=\"text\" id=\"var_name\" value=\"foo\"><br>\nVariable Value: <input type=\"text\" id=\"var_value\" value=\"bar\"><br>\n<button onclick=\"set_value()\">Set Value</button>\n</div>\n\n<script type=\"text/Javascript\">\n    window.set_value = function (){\n        document.getElementById('var_name').value = 'rebornix';\n    }\n</script>\n",
            "text/plain": "<IPython.core.display.HTML object>"
          },
          "execution_count": 2,
          "metadata": {},
          "output_type": "execute_result"
        }
      ],
      "source": [
        "from IPython.display import HTML\n",
        "\n",
        "input_form = \"\"\"\n",
        "<div style=\"background-color:gainsboro; border:solid black; width:300px; padding:20px;\">\n",
        "Variable Name: <input type=\"text\" id=\"var_name\" value=\"foo\"><br>\n",
        "Variable Value: <input type=\"text\" id=\"var_value\" value=\"bar\"><br>\n",
        "<button onclick=\"set_value()\">Set Value</button>\n",
        "</div>\n",
        "\"\"\"\n",
        "\n",
        "javascript = \"\"\"\n",
        "<script type=\"text/Javascript\">\n",
        "    window.set_value = function (){\n",
        "        document.getElementById('var_name').value = 'rebornix';\n",
        "    }\n",
        "</script>\n",
        "\"\"\"\n",
        "\n",
        "HTML(input_form + javascript)"
      ]
    },
    {
      "cell_type": "code",
      "execution_count": 10,
      "metadata": {
        "azdata_cell_guid": "b064ece1-cfef-4502-82d3-d4ba473a2ae5"
      },
      "outputs": [
        {
          "data": {
            "image/png": "[encoded data removed]",
            "text/plain": [
              "<Figure size 1440x720 with 1 Axes>"
            ]
          },
          "metadata": {
            "needs_background": "light"
          },
          "output_type": "display_data"
        }
      ],
      "source": [
        "%matplotlib inline\n",
        "from matplotlib import pyplot as plt\n",
        "import pandas as pd\n",
        "\n",
        "s = pd.Series([1,2,3], index=['a','b','c'])\n",
        "\n",
        "s.plot.bar(figsize=(20,10))\n",
        "plt.xlabel('Foo')\n",
        "plt.ylabel('Bar')\n",
        "plt.title(\"Hello World\");\n"
      ]
    },
    {
      "cell_type": "code",
      "execution_count": 7,
      "metadata": {
        "azdata_cell_guid": "1dd74f3c-996e-4e7c-abcc-6d57815807a5",
        "tags": []
      },
      "outputs": [],
      "source": [
        "b = input('type:'\n",
        "print(b)"
      ]
    },
    {
      "cell_type": "markdown",
      "metadata": {
        "azdata_cell_guid": "cfd851ac-e42e-4f5c-896b-98250ae87f53"
      },
      "source": [
        "There are two other keyboard shortcuts for running code:\n",
        "\n",
        "* `Alt-Enter` runs the current cell and inserts a new one below.\n",
        "* `Ctrl-Enter` run the current cell and enters command mode."
      ]
    },
    {
      "cell_type": "markdown",
      "metadata": {
        "azdata_cell_guid": "9993905c-84dc-44c8-9949-cc33211a8b0e"
      },
      "source": [
        "## Managing the Kernel"
      ]
    },
    {
      "cell_type": "markdown",
      "metadata": {
        "azdata_cell_guid": "9b1217ea-3a8b-4900-a234-c923cd4a8b05"
      },
      "source": [
        "Code is run in a separate process called the Kernel.  The Kernel can be interrupted or restarted.  Try running the following cell and then hit the <button class='btn btn-default btn-xs'><i class='icon-stop fa fa-stop'></i></button> button in the toolbar above."
      ]
    },
    {
      "cell_type": "code",
      "execution_count": 1,
      "metadata": {},
      "outputs": [
        {
          "data": {
            "text/html": [
              "<h1>Hello, world!</h1>"
            ],
            "text/plain": [
              "<IPython.core.display.HTML object>"
            ]
          },
          "metadata": {},
          "output_type": "display_data"
        }
      ],
      "source": [
        "from IPython.core.display import display, HTML\n",
        "display(HTML('<h1>Hello, world!</h1>'))\n"
      ]
    },
    {
      "cell_type": "markdown",
      "metadata": {
        "azdata_cell_guid": "dc808509-201d-4256-b291-63f28626762d"
      },
      "source": [
        "If the Kernel dies you will be prompted to restart it. Here we call the low-level system libc.time routine with the wrong argument via\n",
        "ctypes to segfault the Python interpreter:"
      ]
    },
    {
      "cell_type": "code",
      "execution_count": 5,
      "metadata": {
        "azdata_cell_guid": "c14bbb93-dc72-42b1-8374-e85b8394ec7a",
        "collapsed": false
      },
      "outputs": [],
      "source": [
        "from IPython.display import IFrame\n",
        "\n",
        "IFrame(src='https://s3.amazonaws.com/duhaime/blog/visualizations/isolation-forests.html', width=700, height=600)\n"
      ]
    },
    {
      "cell_type": "markdown",
      "metadata": {
        "azdata_cell_guid": "e593a337-f7df-4a90-a240-961f4bfa1e31"
      },
      "source": [
        "## Cell menu"
      ]
    },
    {
      "cell_type": "markdown",
      "metadata": {
        "azdata_cell_guid": "ca2c1577-349a-40a4-984f-8bb1f215186d"
      },
      "source": [
        "The \"Cell\" menu has a number of menu items for running code in different ways. These includes:\n",
        "\n",
        "* Run and Select Below\n",
        "* Run and Insert Below\n",
        "* Run All\n",
        "* Run All Above\n",
        "* Run All Below"
      ]
    },
    {
      "cell_type": "markdown",
      "metadata": {
        "azdata_cell_guid": "e08d1023-53aa-4af2-ad7c-1a93a6304371"
      },
      "source": [
        "## Restarting the kernels"
      ]
    },
    {
      "cell_type": "markdown",
      "metadata": {
        "azdata_cell_guid": "e0cc2830-129b-45d3-8a4e-f4fc4a20d7b2"
      },
      "source": [
        "The kernel maintains the state of a notebook's computations. You can reset this state by restarting the kernel. This is done by clicking on the <button class='btn btn-default btn-xs'><i class='fa fa-repeat icon-repeat'></i></button> in the toolbar above."
      ]
    },
    {
      "cell_type": "markdown",
      "metadata": {
        "azdata_cell_guid": "c00c237d-4bcf-4dbb-b106-f76de82cf78d"
      },
      "source": [
        "## sys.stdout and sys.stderr"
      ]
    },
    {
      "cell_type": "markdown",
      "metadata": {
        "azdata_cell_guid": "58bf4c9f-9ab4-47a4-a031-8e0b45bc5bcb"
      },
      "source": [
        "The stdout and stderr streams are displayed as text in the output area."
      ]
    },
    {
      "cell_type": "code",
      "execution_count": 6,
      "metadata": {
        "azdata_cell_guid": "c5dc6e63-4bf1-4d88-b80d-8fd0c2245fd4",
        "collapsed": false
      },
      "outputs": [
        {
          "name": "stdout",
          "output_type": "stream",
          "text": [
            "hi, stdout\n"
          ]
        }
      ],
      "source": [
        "print(\"hi, stdout\")"
      ]
    },
    {
      "cell_type": "code",
      "execution_count": 7,
      "metadata": {
        "azdata_cell_guid": "a665b9f1-d4d4-4531-a1a0-ba70b21eb35c",
        "collapsed": false
      },
      "outputs": [
        {
          "name": "stderr",
          "output_type": "stream",
          "text": [
            "hi, stderr\n"
          ]
        }
      ],
      "source": [
        "from __future__ import print_function\n",
        "print('hi, stderr', file=sys.stderr)"
      ]
    },
    {
      "cell_type": "markdown",
      "metadata": {
        "azdata_cell_guid": "11538ba4-17b9-44d1-a0d1-49855447e0ab"
      },
      "source": [
        "## Output is asynchronous"
      ]
    },
    {
      "cell_type": "markdown",
      "metadata": {
        "azdata_cell_guid": "a542fef4-e5db-4f7c-99c8-23a79cabffee"
      },
      "source": [
        "All output is displayed asynchronously as it is generated in the Kernel. If you execute the next cell, you will see the output one piece at a time, not all at the end."
      ]
    },
    {
      "cell_type": "code",
      "execution_count": 5,
      "metadata": {
        "azdata_cell_guid": "19a81733-1cce-4b5c-bdfd-cfbcbecc2ac7",
        "collapsed": false,
        "tags": []
      },
      "outputs": [
        {
          "name": "stdout",
          "output_type": "stream",
          "text": [
            "0\n"
          ]
        },
        {
          "name": "stdout",
          "output_type": "stream",
          "text": [
            "1\n"
          ]
        },
        {
          "name": "stdout",
          "output_type": "stream",
          "text": [
            "2\n"
          ]
        },
        {
          "name": "stdout",
          "output_type": "stream",
          "text": [
            "3\n"
          ]
        },
        {
          "name": "stdout",
          "output_type": "stream",
          "text": [
            "4\n"
          ]
        },
        {
          "name": "stdout",
          "output_type": "stream",
          "text": [
            "5\n"
          ]
        },
        {
          "name": "stdout",
          "output_type": "stream",
          "text": [
            "6\n"
          ]
        },
        {
          "name": "stdout",
          "output_type": "stream",
          "text": [
            "7\n"
          ]
        }
      ],
      "source": [
        "import time, sys\n",
        "for i in range(8):\n",
        "    print(i)\n",
        "    time.sleep(0.5)"
      ]
    },
    {
      "cell_type": "markdown",
      "metadata": {
        "azdata_cell_guid": "2f5cbb72-a727-4519-94f0-c230926342e9"
      },
      "source": [
        "## Large outputs"
      ]
    },
    {
      "cell_type": "markdown",
      "metadata": {
        "azdata_cell_guid": "db63d4bb-8c9d-4e30-9b2d-9c89bf30d305"
      },
      "source": [
        "To better handle large outputs, the output area can be collapsed. Run the following cell and then single- or double- click on the active area to the left of the output:"
      ]
    },
    {
      "cell_type": "code",
      "execution_count": 9,
      "metadata": {
        "azdata_cell_guid": "225315ec-1d54-4483-ac89-222d2070be02",
        "collapsed": false
      },
      "outputs": [
        {
          "name": "stdout",
          "output_type": "stream",
          "text": [
            "0\n",
            "1\n",
            "2\n",
            "3\n",
            "4\n",
            "5\n",
            "6\n",
            "7\n",
            "8\n",
            "9\n",
            "10\n",
            "11\n",
            "12\n",
            "13\n",
            "14\n",
            "15\n",
            "16\n",
            "17\n",
            "18\n",
            "19\n",
            "20\n",
            "21\n",
            "22\n",
            "23\n",
            "24\n",
            "25\n",
            "26\n",
            "27\n",
            "28\n",
            "29\n",
            "30\n",
            "31\n",
            "32\n",
            "33\n",
            "34\n",
            "35\n",
            "36\n",
            "37\n",
            "38\n",
            "39\n",
            "40\n",
            "41\n",
            "42\n",
            "43\n",
            "44\n",
            "45\n",
            "46\n",
            "47\n",
            "48\n",
            "49\n"
          ]
        }
      ],
      "source": [
        "for i in range(50):\n",
        "    print(i)"
      ]
    },
    {
      "cell_type": "markdown",
      "metadata": {
        "azdata_cell_guid": "bd4d57e5-0966-49e8-8c89-a0801eef2d61"
      },
      "source": [
        "Beyond a certain point, output will scroll automatically:"
      ]
    }
  ],
  "metadata": {
    "kernelspec": {
      "name": "python3",
      "display_name": "Python 3"
    },
    "language_info": {
      "name": "python",
      "version": "3.7.3",
      "mimetype": "text/x-python",
      "codemirror_mode": {
        "name": "ipython",
        "version": 3
      },
      "pygments_lexer": "ipython3",
      "nbconvert_exporter": "python",
      "file_extension": ".py"
    },
    "nteract": {
      "version": "0.15.0"
    }
  },
  "nbformat": 4,
  "nbformat_minor": 2
}