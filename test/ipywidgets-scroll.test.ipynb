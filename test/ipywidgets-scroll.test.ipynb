{
  "cells": [
        {
      "cell_type": "markdown",
      "metadata": {
        "azdata_cell_guid": "2e1cde7c-c21c-4eed-8fed-6d1fc3e6625d"
      },
      "source": [
        "# Running Code"
      ]
    },
    {
      "cell_type": "markdown",
      "metadata": {
        "azdata_cell_guid": "a46c018f-4adc-4e63-a13c-688394fcc27f"
      },
      "source": [
        "*First* and foremost, the Jupyter Notebook is an interactive environment for writing and running code. The notebook is capable of running code in a wide range of languages. However, each notebook is associated with a single kernel.  This notebook is associated with the IPython kernel, therefore runs Python code.\n"
      ]
    },
    {
      "cell_type": "markdown",
      "metadata": {
        "azdata_cell_guid": "40787b35-53fe-40e4-ac10-60c008cf61f0"
      },
      "source": [
        "## Code cells allow you to enter and run code"
      ]
    },
    {
      "cell_type": "code",
      "execution_count": 2,
      "metadata": {},
      "outputs": [
        {
          "data": {
            "text/html": [
              "\n",
              "        <iframe\n",
              "            width=\"700\"\n",
              "            height=\"600\"\n",
              "            src=\"https://s3.amazonaws.com/duhaime/blog/visualizations/isolation-forests.html\"\n",
              "            frameborder=\"0\"\n",
              "            allowfullscreen\n",
              "        ></iframe>\n",
              "        "
            ],
            "text/plain": [
              "<IPython.lib.display.IFrame at 0x11dee3e80>"
            ]
          },
          "execution_count": 2,
          "metadata": {},
          "output_type": "execute_result"
        }
      ],
      "source": [
        "from IPython.display import IFrame\n",
        "\n",
        "IFrame(src='https://s3.amazonaws.com/duhaime/blog/visualizations/isolation-forests.html', width=700, height=600)\n"
      ]
    },
    {
      "cell_type": "code",
      "execution_count": 2,
      "metadata": {},
      "outputs": [
        {
          "data": {
            "text/html": "\n<div style=\"background-color:gainsboro; border:solid black; width:300px; padding:20px;\">\nVariable Name: <input type=\"text\" id=\"var_name\" value=\"foo\"><br>\nVariable Value: <input type=\"text\" id=\"var_value\" value=\"bar\"><br>\n<button onclick=\"set_value()\">Set Value</button>\n</div>\n\n<script type=\"text/Javascript\">\n    window.set_value = function (){\n        document.getElementById('var_name').value = 'rebornix';\n    }\n</script>\n",
            "text/plain": "<IPython.core.display.HTML object>"
          },
          "execution_count": 2,
          "metadata": {},
          "output_type": "execute_result"
        }
      ],
      "source": [
        "from IPython.display import HTML\n",
        "\n",
        "input_form = \"\"\"\n",
        "<div style=\"background-color:gainsboro; border:solid black; width:300px; padding:20px;\">\n",
        "Variable Name: <input type=\"text\" id=\"var_name\" value=\"foo\"><br>\n",
        "Variable Value: <input type=\"text\" id=\"var_value\" value=\"bar\"><br>\n",
        "<button onclick=\"set_value()\">Set Value</button>\n",
        "</div>\n",
        "\"\"\"\n",
        "\n",
        "javascript = \"\"\"\n",
        "<script type=\"text/Javascript\">\n",
        "    window.set_value = function (){\n",
        "        document.getElementById('var_name').value = 'rebornix';\n",
        "    }\n",
        "</script>\n",
        "\"\"\"\n",
        "\n",
        "HTML(input_form + javascript)"
      ]
    },
    {
      "cell_type": "code",
      "execution_count": 7,
      "metadata": {
        "azdata_cell_guid": "1dd74f3c-996e-4e7c-abcc-6d57815807a5",
        "tags": []
      },
      "outputs": [],
      "source": [
        "b = input('type:'\n",
        "print(b)"
      ]
    },
    {
      "cell_type": "markdown",
      "metadata": {
        "azdata_cell_guid": "cfd851ac-e42e-4f5c-896b-98250ae87f53"
      },
      "source": [
        "There are two other keyboard shortcuts for running code:\n",
        "\n",
        "* `Alt-Enter` runs the current cell and inserts a new one below.\n",
        "* `Ctrl-Enter` run the current cell and enters command mode."
      ]
    },
    {
      "cell_type": "markdown",
      "metadata": {
        "azdata_cell_guid": "9993905c-84dc-44c8-9949-cc33211a8b0e"
      },
      "source": [
        "## ipywidgets support\n",
        "Widgets linking"
      ]
    },
    {
      "cell_type": "code",
      "execution_count": 1,
      "metadata": {},
      "outputs": [
        {
          "data": {
            "text/html": [
                "<script type=\"application/vnd.jupyter.widget-state+json\">\n",
                "    {\n",
                "        \"version_major\": 2,\n",
                "        \"version_minor\": 0,\n",
                "        \"state\": {\n",
                "            \"961d612211fe4c64a70f48942d885c14\": {\n",
                "                \"model_name\": \"LayoutModel\",\n",
                "                \"model_module\": \"@jupyter-widgets/base\",\n",
                "                \"model_module_version\": \"1.0.0\",\n",
                "                \"state\": {\n",
                "                    \"_model_module_version\": \"1.0.0\",\n",
                "                    \"_view_module_version\": \"1.0.0\",\n",
                "                    \"_view_count\": 1\n",
                "                }\n",
                "            },\n",
                "            \"564e75ddea4c4ea0a32c4bd39ed0ed6d\": {\n",
                "                \"model_name\": \"SliderStyleModel\",\n",
                "                \"model_module\": \"@jupyter-widgets/controls\",\n",
                "                \"model_module_version\": \"1.0.0\",\n",
                "                \"state\": {\n",
                "                    \"_model_module_version\": \"1.0.0\",\n",
                "                    \"_view_module_version\": \"1.0.0\",\n",
                "                    \"_view_count\": 1\n",
                "                }\n",
                "            },\n",
                "            \"a8b1ae50aada4d929397b907115bfc2c\": {\n",
                "                \"model_name\": \"IntSliderModel\",\n",
                "                \"model_module\": \"@jupyter-widgets/controls\",\n",
                "                \"model_module_version\": \"1.0.0\",\n",
                "                \"state\": {\n",
                "                    \"style\": \"IPY_MODEL_564e75ddea4c4ea0a32c4bd39ed0ed6d\",\n",
                "                    \"_view_module_version\": \"1.0.0\",\n",
                "                    \"max\": 200,\n",
                "                    \"value\": 100,\n",
                "                    \"_model_module_version\": \"1.0.0\",\n",
                "                    \"layout\": \"IPY_MODEL_961d612211fe4c64a70f48942d885c14\",\n",
                "                    \"_view_count\": 1\n",
                "                }\n",
                "            },\n",
                "            \"b63481ca8b7943aa85d097a114a931f5\": {\n",
                "                \"model_name\": \"LayoutModel\",\n",
                "                \"model_module\": \"@jupyter-widgets/base\",\n",
                "                \"model_module_version\": \"1.0.0\",\n",
                "                \"state\": {\n",
                "                    \"_model_module_version\": \"1.0.0\",\n",
                "                    \"_view_module_version\": \"1.0.0\",\n",
                "                    \"_view_count\": 1\n",
                "                }\n",
                "            },\n",
                "            \"d86e0cb348eb48bf97f14906a9406731\": {\n",
                "                \"model_name\": \"SliderStyleModel\",\n",
                "                \"model_module\": \"@jupyter-widgets/controls\",\n",
                "                \"model_module_version\": \"1.0.0\",\n",
                "                \"state\": {\n",
                "                    \"_model_module_version\": \"1.0.0\",\n",
                "                    \"_view_module_version\": \"1.0.0\",\n",
                "                    \"_view_count\": 1\n",
                "                }\n",
                "            },\n",
                "            \"289e54d14b7c4c6d8ac18b4c86ab514c\": {\n",
                "                \"model_name\": \"IntSliderModel\",\n",
                "                \"model_module\": \"@jupyter-widgets/controls\",\n",
                "                \"model_module_version\": \"1.0.0\",\n",
                "                \"state\": {\n",
                "                    \"style\": \"IPY_MODEL_d86e0cb348eb48bf97f14906a9406731\",\n",
                "                    \"_view_module_version\": \"1.0.0\",\n",
                "                    \"value\": 40,\n",
                "                    \"_model_module_version\": \"1.0.0\",\n",
                "                    \"layout\": \"IPY_MODEL_b63481ca8b7943aa85d097a114a931f5\",\n",
                "                    \"_view_count\": 1\n",
                "                }\n",
                "            },\n",
                "            \"bb589d8dc365404b94e73a153407128f\": {\n",
                "                \"model_name\": \"LayoutModel\",\n",
                "                \"model_module\": \"@jupyter-widgets/base\",\n",
                "                \"model_module_version\": \"1.0.0\",\n",
                "                \"state\": {\n",
                "                    \"_model_module_version\": \"1.0.0\",\n",
                "                    \"_view_module_version\": \"1.0.0\",\n",
                "                    \"_view_count\": 1\n",
                "                }\n",
                "            },\n",
                "            \"19a24d8ea5a248be8db79790290ae2a1\": {\n",
                "                \"model_name\": \"ButtonStyleModel\",\n",
                "                \"model_module\": \"@jupyter-widgets/controls\",\n",
                "                \"model_module_version\": \"1.0.0\",\n",
                "                \"state\": {\n",
                "                    \"_model_module_version\": \"1.0.0\",\n",
                "                    \"_view_module_version\": \"1.0.0\",\n",
                "                    \"_view_count\": 1\n",
                "                }\n",
                "            },\n",
                "            \"965bbfeaddd74b9baa488c7f6ac13027\": {\n",
                "                \"model_name\": \"ButtonModel\",\n",
                "                \"model_module\": \"@jupyter-widgets/controls\",\n",
                "                \"model_module_version\": \"1.0.0\",\n",
                "                \"state\": {\n",
                "                    \"style\": \"IPY_MODEL_19a24d8ea5a248be8db79790290ae2a1\",\n",
                "                    \"_view_module_version\": \"1.0.0\",\n",
                "                    \"icon\": \"legal\",\n",
                "                    \"_model_module_version\": \"1.0.0\",\n",
                "                    \"layout\": \"IPY_MODEL_bb589d8dc365404b94e73a153407128f\",\n",
                "                    \"_view_count\": 1\n",
                "                }\n",
                "            },\n",
                "            \"6edd9d3360cc47c8aceff0ba11edeca9\": {\n",
                "                \"model_name\": \"DirectionalLinkModel\",\n",
                "                \"model_module\": \"@jupyter-widgets/controls\",\n",
                "                \"model_module_version\": \"1.0.0\",\n",
                "                \"state\": {\n",
                "                    \"_model_module_version\": \"1.0.0\",\n",
                "                    \"target\": [\n",
                "                        \"IPY_MODEL_289e54d14b7c4c6d8ac18b4c86ab514c\",\n",
                "                        \"max\"\n",
                "                    ],\n",
                "                    \"source\": [\n",
                "                        \"IPY_MODEL_a8b1ae50aada4d929397b907115bfc2c\",\n",
                "                        \"value\"\n",
                "                    ],\n",
                "                    \"_view_module_version\": \"1.0.0\",\n",
                "                    \"_view_name\": \"\"\n",
                "                }\n",
                "            },\n",
                "            \"d7d14e74f61f4b3bb5f53a713bcadced\": {\n",
                "                \"model_name\": \"LayoutModel\",\n",
                "                \"model_module\": \"@jupyter-widgets/base\",\n",
                "                \"model_module_version\": \"1.0.0\",\n",
                "                \"state\": {\n",
                "                    \"_model_module_version\": \"1.0.0\",\n",
                "                    \"_view_module_version\": \"1.0.0\",\n",
                "                    \"_view_count\": 1\n",
                "                }\n",
                "            },\n",
                "            \"8621699ecc804983a612f09b7dfe806b\": {\n",
                "                \"model_name\": \"VBoxModel\",\n",
                "                \"model_module\": \"@jupyter-widgets/controls\",\n",
                "                \"model_module_version\": \"1.0.0\",\n",
                "                \"state\": {\n",
                "                    \"_view_module_version\": \"1.0.0\",\n",
                "                    \"children\": [\n",
                "                        \"IPY_MODEL_a8b1ae50aada4d929397b907115bfc2c\",\n",
                "                        \"IPY_MODEL_289e54d14b7c4c6d8ac18b4c86ab514c\"\n",
                "                    ],\n",
                "                    \"_model_module_version\": \"1.0.0\",\n",
                "                    \"layout\": \"IPY_MODEL_d7d14e74f61f4b3bb5f53a713bcadced\",\n",
                "                    \"_view_count\": 1\n",
                "                }\n",
                "            }\n",
                "        }\n",
                "    }\n",
                "</script>\n",
                "<div>\n",
                "    <script type=\"application/vnd.jupyter.widget-view+json\">\n",
                "         {\"version_major\": 1, \"version_minor\": 0, \"model_id\": \"8621699ecc804983a612f09b7dfe806b\"} \n",
                "    </script>\n",
                "    <script>if (window.manager) { window.manager.renderTag(); } </script>\n",
                "</div>\n"
            ],
            "text/plain": [
              "<IPython.core.display.HTML object>"
            ]
          },
          "metadata": {},
          "output_type": "display_data"
        }
      ],
      "source": [
        "from ipywidgets import VBox, jsdlink, IntSlider, Button\n",
        "\n",
        "s1, s2 = IntSlider(max=200, value=100), IntSlider(value=40)\n",
        "jsdlink((s1, 'value'), (s2, 'max'))\n",
        "VBox([s1, s2])"
      ]
    },
    {
      "cell_type": "markdown",
      "metadata": {
        "azdata_cell_guid": "2e1cde7c-c21c-4eed-8fed-6d1fc3e6625d"
      },
      "source": [
        "Widgets sharing the same models"
      ]
    },
    {
      "cell_type": "code",
      "execution_count": 1,
      "metadata": {},
      "outputs": [
        {
          "data": {
            "text/html": [
                "<script type=\"application/vnd.jupyter.widget-view+json\">\n",
                "         {\"version_major\": 1, \"version_minor\": 0, \"model_id\": \"8621699ecc804983a612f09b7dfe806b\"} \n",
                "</script>\n",
                "<script>if (window.manager) { window.manager.renderTag(); } </script>\n",
                "<script>console.log(123456);</script>\n"
            ],
            "text/plain": [
              "<IPython.core.display.HTML object>"
            ]
          },
          "metadata": {},
          "output_type": "display_data"
        }
      ],
      "source": [
        "VBox([s1, s2])"
      ]
    },
    {
      "cell_type": "markdown",
      "metadata": {
        "azdata_cell_guid": "2e1cde7c-c21c-4eed-8fed-6d1fc3e6625d"
      },
      "source": [
        "# Running Code"
      ]
    },
    {
      "cell_type": "markdown",
      "metadata": {
        "azdata_cell_guid": "a46c018f-4adc-4e63-a13c-688394fcc27f"
      },
      "source": [
        "*First* and foremost, the Jupyter Notebook is an interactive environment for writing and running code. The notebook is capable of running code in a wide range of languages. However, each notebook is associated with a single kernel.  This notebook is associated with the IPython kernel, therefore runs Python code.\n"
      ]
    },
    {
      "cell_type": "markdown",
      "metadata": {
        "azdata_cell_guid": "40787b35-53fe-40e4-ac10-60c008cf61f0"
      },
      "source": [
        "## Code cells allow you to enter and run code"
      ]
    },
    {
      "cell_type": "code",
      "execution_count": 2,
      "metadata": {},
      "outputs": [
        {
          "data": {
            "text/html": [
              "\n",
              "        <iframe\n",
              "            width=\"700\"\n",
              "            height=\"600\"\n",
              "            src=\"https://s3.amazonaws.com/duhaime/blog/visualizations/isolation-forests.html\"\n",
              "            frameborder=\"0\"\n",
              "            allowfullscreen\n",
              "        ></iframe>\n",
              "        "
            ],
            "text/plain": [
              "<IPython.lib.display.IFrame at 0x11dee3e80>"
            ]
          },
          "execution_count": 2,
          "metadata": {},
          "output_type": "execute_result"
        }
      ],
      "source": [
        "from IPython.display import IFrame\n",
        "\n",
        "IFrame(src='https://s3.amazonaws.com/duhaime/blog/visualizations/isolation-forests.html', width=700, height=600)\n"
      ]
    },
    {
      "cell_type": "code",
      "execution_count": 2,
      "metadata": {},
      "outputs": [
        {
          "data": {
            "text/html": "\n<div style=\"background-color:gainsboro; border:solid black; width:300px; padding:20px;\">\nVariable Name: <input type=\"text\" id=\"var_name\" value=\"foo\"><br>\nVariable Value: <input type=\"text\" id=\"var_value\" value=\"bar\"><br>\n<button onclick=\"set_value()\">Set Value</button>\n</div>\n\n<script type=\"text/Javascript\">\n    window.set_value = function (){\n        document.getElementById('var_name').value = 'rebornix';\n    }\n</script>\n",
            "text/plain": "<IPython.core.display.HTML object>"
          },
          "execution_count": 2,
          "metadata": {},
          "output_type": "execute_result"
        }
      ],
      "source": [
        "from IPython.display import HTML\n",
        "\n",
        "input_form = \"\"\"\n",
        "<div style=\"background-color:gainsboro; border:solid black; width:300px; padding:20px;\">\n",
        "Variable Name: <input type=\"text\" id=\"var_name\" value=\"foo\"><br>\n",
        "Variable Value: <input type=\"text\" id=\"var_value\" value=\"bar\"><br>\n",
        "<button onclick=\"set_value()\">Set Value</button>\n",
        "</div>\n",
        "\"\"\"\n",
        "\n",
        "javascript = \"\"\"\n",
        "<script type=\"text/Javascript\">\n",
        "    window.set_value = function (){\n",
        "        document.getElementById('var_name').value = 'rebornix';\n",
        "    }\n",
        "</script>\n",
        "\"\"\"\n",
        "\n",
        "HTML(input_form + javascript)"
      ]
    },
    {
      "cell_type": "code",
      "execution_count": 7,
      "metadata": {
        "azdata_cell_guid": "1dd74f3c-996e-4e7c-abcc-6d57815807a5",
        "tags": []
      },
      "outputs": [],
      "source": [
        "b = input('type:'\n",
        "print(b)"
      ]
    },
    {
      "cell_type": "markdown",
      "metadata": {
        "azdata_cell_guid": "cfd851ac-e42e-4f5c-896b-98250ae87f53"
      },
      "source": [
        "There are two other keyboard shortcuts for running code:\n",
        "\n",
        "* `Alt-Enter` runs the current cell and inserts a new one below.\n",
        "* `Ctrl-Enter` run the current cell and enters command mode."
      ]
    },
    {
      "cell_type": "markdown",
      "metadata": {
        "azdata_cell_guid": "9993905c-84dc-44c8-9949-cc33211a8b0e"
      },
      "source": [
        "## Managing the Kernel"
      ]
    },
    {
      "cell_type": "markdown",
      "metadata": {
        "azdata_cell_guid": "9b1217ea-3a8b-4900-a234-c923cd4a8b05"
      },
      "source": [
        "Code is run in a separate process called the Kernel.  The Kernel can be interrupted or restarted.  Try running the following cell and then hit the <button class='btn btn-default btn-xs'><i class='icon-stop fa fa-stop'></i></button> button in the toolbar above."
      ]
    }
  ],
  "metadata": {
    "kernelspec": {
      "name": "python3",
      "display_name": "Python 3"
    },
    "language_info": {
      "name": "python",
      "version": "3.7.3",
      "mimetype": "text/x-python",
      "codemirror_mode": {
        "name": "ipython",
        "version": 3
      },
      "pygments_lexer": "ipython3",
      "nbconvert_exporter": "python",
      "file_extension": ".py"
    },
    "nteract": {
      "version": "0.15.0"
    }
  },
  "nbformat": 4,
  "nbformat_minor": 2
}