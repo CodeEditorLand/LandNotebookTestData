{
    "cells": [
        {
            "cell_type": "code",
            "execution_count": 1,
            "metadata": {},
            "outputs": [
                {
                    "data": {
                        "text/html": [
                            "",
                            "<script>\n",
                            "fetch(\"https://cdnjs.cloudflare.com/ajax/libs/require.js/2.3.6/require.js\").then(response => {\n",
                            "    return response.text();\n",
                            "}).then(text => {\n",
                            "    let scriptTag = document.createElement(\"script\");\n",
                            "    scriptTag.text = text;\n",
                            "    document.body.appendChild(scriptTag);\n",
                            "    require.config({\n",
                            "        paths: {\n",
                            "            d3: \"https://d3js.org/d3.v5.min\"\n",
                            "        }\n",
                            "    });\n",
                            "});\n",
                            "</script>\n"
                        ],
                        "text/plain": [
                            "<IPython.core.display.HTML object>"
                        ]
                    },
                    "metadata": {},
                    "output_type": "display_data"
                }
            ],
            "source": [
                "from ipywidgets import VBox, jsdlink, IntSlider, Button\n"
            ]
        },
        {
            "cell_type": "code",
            "execution_count": 4,
            "metadata": {},
            "outputs": [],
            "source": [
                "from __future__ import print_function\n",
                "from ipywidgets import interact, interactive, fixed, interact_manual\n",
                "import ipywidgets as widgets"
            ]
        }
    ],
    "metadata": {
        "kernelspec": {
            "name": "python3",
            "display_name": "Python 3"
        },
        "language_info": {
            "name": "python",
            "version": "3.7.3",
            "mimetype": "text/x-python",
            "codemirror_mode": {
                "name": "ipython",
                "version": 3
            },
            "pygments_lexer": "ipython3",
            "nbconvert_exporter": "python",
            "file_extension": ".py"
        },
        "nteract": {
            "version": "0.15.0"
        }
    },
    "nbformat": 4,
    "nbformat_minor": 2
}